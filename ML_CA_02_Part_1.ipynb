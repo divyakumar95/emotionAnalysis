{
  "cells": [
    {
      "cell_type": "markdown",
      "metadata": {
        "colab_type": "text",
        "id": "view-in-github"
      },
      "source": [
        "<a href=\"https://colab.research.google.com/github/divyakumar95/emotionAnalysis/blob/main/ML_CA_02_Part_1.ipynb\" target=\"_parent\"><img src=\"https://colab.research.google.com/assets/colab-badge.svg\" alt=\"Open In Colab\"/></a>"
      ]
    },
    {
      "cell_type": "markdown",
      "metadata": {
        "id": "b3zFj-Yez44-"
      },
      "source": [
        "## Machine Learing CA-02\n"
      ]
    },
    {
      "cell_type": "markdown",
      "metadata": {
        "id": "OWC8ajsd0eII"
      },
      "source": [
        "### Question 1\n",
        "\n",
        "Use a real-world dataset (i.e. relational, text, image, video, voice files), prepare the dataset for modelling, consider one categorical variable in the dataset, and apply the classification task. To do so:  \n",
        "\n",
        "* Provide the functional form of the predictive model for each algorithm.\n",
        "\n",
        "* Train each model using different ratios of the trainset and visualize the performance of models using accuracy (y -axis) in terms of different ratio of trainsets (x-axis). Elaborate on the insights.\n",
        "\n",
        "* Apply ensemble methods (bagging, boosting, stacking) on the base models, evaluate the performance of each ensemble technique in 100 Monte Carlo runs and visualize the performance of models using Boxplot.\n",
        "\n",
        "* Select the best classifier and elaborate on its advantages and limitations."
      ]
    },
    {
      "cell_type": "markdown",
      "metadata": {
        "id": "vVHZExn20kmg"
      },
      "source": [
        "### Problem Statement\n",
        "\n",
        "Using text data to detect emotions of user"
      ]
    },
    {
      "cell_type": "markdown",
      "metadata": {
        "id": "26ePdJSv1KC0"
      },
      "source": [
        "## Resouces and references\n",
        "\n",
        "* https://scikit-learn.org/stable/supervised_learning.html"
      ]
    },
    {
      "cell_type": "markdown",
      "metadata": {
        "id": "pFQUH0tg2HTT"
      },
      "source": [
        "### Data Sources\n",
        "\n",
        "* https://www.kaggle.com/parulpandey/emotion-dataset/download\n",
        "* https://drive.google.com/drive/u/1/folders/1oRZNWkOLESPNiW-nLZrh-wNe2G7eS9ln"
      ]
    },
    {
      "cell_type": "markdown",
      "metadata": {
        "id": "_jSWeUdW2afF"
      },
      "source": [
        "### Text to Number conversion Sources\n",
        "\n",
        "* https://thecleverprogrammer.com/2021/04/17/convert-text-into-numerical-data-using-python/"
      ]
    },
    {
      "cell_type": "markdown",
      "metadata": {
        "id": "WNBmV-If26MA"
      },
      "source": [
        "### Importing Data - Source code\n",
        "\n",
        "* https://colab.research.google.com/notebooks/io.ipynb"
      ]
    },
    {
      "cell_type": "markdown",
      "metadata": {
        "id": "8UqNnBcW8zKG"
      },
      "source": [
        "## Data Understanding"
      ]
    },
    {
      "cell_type": "markdown",
      "metadata": {
        "id": "9bCpmlj59NR6"
      },
      "source": [
        "Mount drive to colab to use dataset"
      ]
    },
    {
      "cell_type": "code",
      "execution_count": null,
      "metadata": {
        "colab": {
          "base_uri": "https://localhost:8080/"
        },
        "id": "KpGdd1bC251y",
        "outputId": "4232c39d-dcea-4de9-a1e7-c1f3dc60cb80"
      },
      "outputs": [
        {
          "name": "stdout",
          "output_type": "stream",
          "text": [
            "No module named 'google.colab'\n"
          ]
        }
      ],
      "source": [
        "## To run on Google colab\n",
        "try:\n",
        "    from google.colab import drive\n",
        "    drive.mount('/content/drive')\n",
        "except Exception as E:\n",
        "    print(E)"
      ]
    },
    {
      "cell_type": "markdown",
      "metadata": {
        "id": "osiHh6za3qQU"
      },
      "source": [
        "### Data Files path\n",
        "\n",
        "* https://drive.google.com/file/d/1JfvMAwFgEkEySAJEzi1rhzDt7xOknoWV/view?usp=sharing"
      ]
    },
    {
      "cell_type": "code",
      "execution_count": 2,
      "metadata": {
        "id": "6mKSdtWD1_1d"
      },
      "outputs": [],
      "source": [
        "#CSV file path on local or \n",
        "Drive_data = '/content/drive/MyDrive/Text_data/training.csv'\n",
        "local_data = 'Data/training.csv'"
      ]
    },
    {
      "cell_type": "markdown",
      "metadata": {
        "id": "MJCQqcGr9tP9"
      },
      "source": [
        "### Import required libraries/modules  "
      ]
    },
    {
      "cell_type": "code",
      "execution_count": 3,
      "metadata": {
        "id": "kX3JbJVE3mad"
      },
      "outputs": [],
      "source": [
        "import numpy as np\n",
        "import pandas as pd\n",
        "import matplotlib.pyplot as plt\n",
        "import warnings\n",
        "warnings.filterwarnings(\"ignore\", category=FutureWarning)\n",
        "import plotly.io as pio\n",
        "pio.renderers.default = 'iframe_connected'"
      ]
    },
    {
      "cell_type": "markdown",
      "metadata": {
        "id": "RiCE7YiRAqI1"
      },
      "source": [
        "### Load Dataset"
      ]
    },
    {
      "cell_type": "code",
      "execution_count": 4,
      "metadata": {
        "id": "PQ1SWTz_363A"
      },
      "outputs": [],
      "source": [
        "import os \n",
        "if os.path.exists(Drive_data):\n",
        "    data = pd.read_csv(Drive_data)\n",
        "else:\n",
        "    data = pd.read_csv(local_data)"
      ]
    },
    {
      "cell_type": "markdown",
      "metadata": {
        "id": "k_ZQ8KsI_cQB"
      },
      "source": [
        "## Data Preparation"
      ]
    },
    {
      "cell_type": "markdown",
      "metadata": {
        "id": "ec5nhorb-J3O"
      },
      "source": [
        "### Define output labels\n",
        "\n",
        "* 0: Sadness\n",
        "* 1: Joy\n",
        "* 2: Love\n",
        "* 3: Anger\n",
        "* 4: Fear\n",
        "* 5: Surprise\n",
        "\n",
        "Total 6 different classes"
      ]
    },
    {
      "cell_type": "code",
      "execution_count": 5,
      "metadata": {
        "colab": {
          "base_uri": "https://localhost:8080/",
          "height": 206
        },
        "id": "h2FixRIb4Ia_",
        "outputId": "1d30e8d5-5545-468c-97aa-fcbb08837713"
      },
      "outputs": [
        {
          "data": {
            "text/html": [
              "<div>\n",
              "<style scoped>\n",
              "    .dataframe tbody tr th:only-of-type {\n",
              "        vertical-align: middle;\n",
              "    }\n",
              "\n",
              "    .dataframe tbody tr th {\n",
              "        vertical-align: top;\n",
              "    }\n",
              "\n",
              "    .dataframe thead th {\n",
              "        text-align: right;\n",
              "    }\n",
              "</style>\n",
              "<table border=\"1\" class=\"dataframe\">\n",
              "  <thead>\n",
              "    <tr style=\"text-align: right;\">\n",
              "      <th></th>\n",
              "      <th>text</th>\n",
              "      <th>label</th>\n",
              "      <th>description</th>\n",
              "    </tr>\n",
              "  </thead>\n",
              "  <tbody>\n",
              "    <tr>\n",
              "      <th>0</th>\n",
              "      <td>i didnt feel humiliated</td>\n",
              "      <td>0</td>\n",
              "      <td>sadness</td>\n",
              "    </tr>\n",
              "    <tr>\n",
              "      <th>1</th>\n",
              "      <td>i can go from feeling so hopeless to so damned...</td>\n",
              "      <td>0</td>\n",
              "      <td>sadness</td>\n",
              "    </tr>\n",
              "    <tr>\n",
              "      <th>2</th>\n",
              "      <td>im grabbing a minute to post i feel greedy wrong</td>\n",
              "      <td>3</td>\n",
              "      <td>anger</td>\n",
              "    </tr>\n",
              "    <tr>\n",
              "      <th>3</th>\n",
              "      <td>i am ever feeling nostalgic about the fireplac...</td>\n",
              "      <td>2</td>\n",
              "      <td>love</td>\n",
              "    </tr>\n",
              "    <tr>\n",
              "      <th>4</th>\n",
              "      <td>i am feeling grouchy</td>\n",
              "      <td>3</td>\n",
              "      <td>anger</td>\n",
              "    </tr>\n",
              "  </tbody>\n",
              "</table>\n",
              "</div>"
            ],
            "text/plain": [
              "                                                text  label description\n",
              "0                            i didnt feel humiliated      0     sadness\n",
              "1  i can go from feeling so hopeless to so damned...      0     sadness\n",
              "2   im grabbing a minute to post i feel greedy wrong      3       anger\n",
              "3  i am ever feeling nostalgic about the fireplac...      2        love\n",
              "4                               i am feeling grouchy      3       anger"
            ]
          },
          "execution_count": 5,
          "metadata": {},
          "output_type": "execute_result"
        }
      ],
      "source": [
        "labels_dict = {0:'sadness', 1:'joy', 2:'love', 3:'anger', 4:'fear', 5:'surprise'}\n",
        "data['description'] = data['label'].map(labels_dict )\n",
        "data.head()"
      ]
    },
    {
      "cell_type": "code",
      "execution_count": 6,
      "metadata": {
        "colab": {
          "base_uri": "https://localhost:8080/"
        },
        "id": "LVK_pLvW4Nwg",
        "outputId": "503e24fc-496c-4ed6-ad57-d08b24d80d60"
      },
      "outputs": [
        {
          "data": {
            "text/plain": [
              "joy         0.335125\n",
              "sadness     0.291625\n",
              "anger       0.134937\n",
              "fear        0.121063\n",
              "love        0.081500\n",
              "surprise    0.035750\n",
              "Name: description, dtype: float64"
            ]
          },
          "execution_count": 6,
          "metadata": {},
          "output_type": "execute_result"
        }
      ],
      "source": [
        "data['description'].value_counts(normalize=True)"
      ]
    },
    {
      "cell_type": "markdown",
      "metadata": {
        "id": "vUndPKDX_q3J"
      },
      "source": [
        "### Vectorize text to numerical Data\n",
        "\n",
        "Source - https://thecleverprogrammer.com/2021/04/17/convert-text-into-numerical-data-using-python/"
      ]
    },
    {
      "cell_type": "code",
      "execution_count": 7,
      "metadata": {
        "id": "kk0pZwz84S3W"
      },
      "outputs": [],
      "source": [
        "from sklearn.feature_extraction.text import CountVectorizer\n",
        "vect = CountVectorizer(max_features=1500, min_df=5, max_df=0.7, stop_words='english')"
      ]
    },
    {
      "cell_type": "code",
      "execution_count": 8,
      "metadata": {
        "colab": {
          "base_uri": "https://localhost:8080/"
        },
        "id": "duAnmQP24nOc",
        "outputId": "6059d999-0e0c-4ad8-9609-81bd4fa5d659"
      },
      "outputs": [
        {
          "name": "stdout",
          "output_type": "stream",
          "text": [
            "['ability', 'able', 'absolutely', 'abused', 'accept', 'acceptable', 'accepted', 'accomplished', 'ache', 'aching']\n"
          ]
        }
      ],
      "source": [
        "new_vect = vect.fit_transform(data['text'].values)\n",
        "print(vect.get_feature_names()[:10])"
      ]
    },
    {
      "cell_type": "markdown",
      "metadata": {
        "id": "v1uQ9WSMAlGy"
      },
      "source": [
        "### Define X and y Variable"
      ]
    },
    {
      "cell_type": "markdown",
      "metadata": {
        "id": "IcahR77r_3EN"
      },
      "source": [
        "Defining input and output variables "
      ]
    },
    {
      "cell_type": "code",
      "execution_count": 9,
      "metadata": {
        "id": "Nj02k3Lt49_J"
      },
      "outputs": [],
      "source": [
        "X = new_vect.toarray()\n",
        "y = data['label']"
      ]
    },
    {
      "cell_type": "code",
      "execution_count": 10,
      "metadata": {
        "colab": {
          "base_uri": "https://localhost:8080/"
        },
        "id": "MwnE5NWXBgH0",
        "outputId": "55314da7-12bd-4b10-ec8e-b4f6460384f6"
      },
      "outputs": [
        {
          "name": "stdout",
          "output_type": "stream",
          "text": [
            "X Shape (16000, 1500)\n",
            "Y Shape (16000,)\n"
          ]
        }
      ],
      "source": [
        "print(\"X Shape\",X.shape)\n",
        "print(\"Y Shape\",y.shape)"
      ]
    },
    {
      "cell_type": "code",
      "execution_count": 11,
      "metadata": {
        "colab": {
          "base_uri": "https://localhost:8080/"
        },
        "id": "O3nufzsGTbdh",
        "outputId": "7d4712e3-e100-4844-ad76-7c19201b9e03"
      },
      "outputs": [
        {
          "data": {
            "text/plain": [
              "Counter({0: 4666, 3: 2159, 2: 1304, 5: 572, 4: 1937, 1: 5362})"
            ]
          },
          "execution_count": 11,
          "metadata": {},
          "output_type": "execute_result"
        }
      ],
      "source": [
        "from collections import Counter\n",
        "Counter(y)"
      ]
    },
    {
      "cell_type": "markdown",
      "metadata": {
        "id": "zC7bNCxNAMLB"
      },
      "source": [
        "## Modeling"
      ]
    },
    {
      "cell_type": "markdown",
      "metadata": {
        "id": "n_MyxikRA24U"
      },
      "source": [
        "### Import required Machine learing Models"
      ]
    },
    {
      "cell_type": "code",
      "execution_count": 12,
      "metadata": {
        "id": "5iwjofnOXb5k"
      },
      "outputs": [],
      "source": [
        "from sklearn.metrics import accuracy_score,confusion_matrix, classification_report\n",
        "from sklearn.tree import DecisionTreeClassifier # decision tee algorithm for classification\n",
        "from sklearn.naive_bayes import CategoricalNB, GaussianNB\n",
        "from sklearn.model_selection import train_test_split, cross_val_score\n",
        "from sklearn.ensemble import RandomForestClassifier, StackingClassifier, BaggingClassifier, AdaBoostClassifier\n",
        "from sklearn.linear_model import LogisticRegression\n",
        "from sklearn.svm import SVR,SVC\n",
        "from sklearn.metrics import accuracy_score, precision_score, recall_score, f1_score, plot_roc_curve\n",
        "import pickle\n",
        "import timeit, time"
      ]
    },
    {
      "cell_type": "markdown",
      "metadata": {
        "id": "pindhxPmcVDb"
      },
      "source": [
        "### Define Models - Base classifiers"
      ]
    },
    {
      "cell_type": "code",
      "execution_count": 13,
      "metadata": {
        "id": "Z0ipHzr2cA60"
      },
      "outputs": [],
      "source": [
        "def base_models():\n",
        "  models = dict()\n",
        "  models['lr'] = LogisticRegression(solver='lbfgs', max_iter=500)\n",
        "  models['svm_Linear'] = SVC(kernel='linear')\n",
        "  models['svm_Polly'] = SVC(kernel='poly')\n",
        "  models['svm_RBF'] = SVC(kernel='rbf')\n",
        "  models['svm_Sigmoid'] = SVC(kernel='sigmoid')\n",
        "  models['dt_ent'] = DecisionTreeClassifier(criterion='entropy')\n",
        "  models['dt_gini'] = DecisionTreeClassifier(criterion='gini')\n",
        "  models['rf'] = RandomForestClassifier(n_estimators=130, criterion='entropy')\n",
        "  return models"
      ]
    },
    {
      "cell_type": "markdown",
      "metadata": {
        "id": "QcnkJpU6lG_D"
      },
      "source": [
        "### Def model evaluation "
      ]
    },
    {
      "cell_type": "code",
      "execution_count": 70,
      "metadata": {
        "id": "y6UpTGvFcpFw"
      },
      "outputs": [],
      "source": [
        "from sklearn.pipeline import make_pipeline\n",
        "from sklearn.preprocessing import StandardScaler\n",
        "\n",
        "def evaluate_model_Multi(model, X, y, mc):\n",
        "  acc = [] ### Blank vector\n",
        "  f = []\n",
        "  prec = []\n",
        "  rec = []\n",
        "  single = timeit.default_timer()\n",
        "  for i in range(mc):\n",
        "    X_train,X_test,y_train,y_test=train_test_split(X,y,test_size=0.2, random_state=i)# split dataset\n",
        "    #dt = make_pipeline(StandardScaler(),model) #pipeline to reduce computation time\n",
        "    dt = model.fit(X_train,y_train) # fit the model\n",
        "    YPred = dt.predict(X_test) # predict\n",
        "    a = accuracy_score(y_test,YPred) # compute accuracy\n",
        "    acc.append(a) # append accuracy\n",
        "    f1 = f1_score(y_test, YPred, average='weighted')\n",
        "    precision = precision_score(y_test, YPred, average='weighted')\n",
        "    recall = recall_score(y_test, YPred, average='weighted')\n",
        "    f.append(f1)\n",
        "    prec.append(precision)\n",
        "    rec.append(recall)\n",
        "    timed = timeit.default_timer() - single\n",
        "    return np.mean(acc), dt, np.mean(recall), np.mean(prec),np.mean(f), np.mean(timed)"
      ]
    },
    {
      "cell_type": "markdown",
      "metadata": {
        "id": "cT1UcH15KzL_"
      },
      "source": [
        "### Checking the best base model "
      ]
    },
    {
      "cell_type": "code",
      "execution_count": null,
      "metadata": {
        "colab": {
          "base_uri": "https://localhost:8080/"
        },
        "id": "2bv1TS2xXyn7",
        "outputId": "2ac7253b-1e3d-46db-8bdb-9df527af2d9e"
      },
      "outputs": [
        {
          "name": "stdout",
          "output_type": "stream",
          "text": [
            "lr -- accuracy: 0.87125 -- Deviation 0.0 -- Precision  0.87125 -- Recall 0.8712349502909648 -- Fscore: 0.8704569731892718\n",
            "svm_Linear -- accuracy: 0.860625 -- Deviation 0.0 -- Precision  0.860625 -- Recall 0.8612831942688906 -- Fscore: 0.8602931033837103\n",
            "svm_Polly -- accuracy: 0.61 -- Deviation 0.0 -- Precision  0.61 -- Recall 0.6806324645530768 -- Fscore: 0.5430535121814706\n",
            "svm_RBF -- accuracy: 0.836875 -- Deviation 0.0 -- Precision  0.836875 -- Recall 0.8445274107306971 -- Fscore: 0.8326791890241033\n",
            "svm_Sigmoid -- accuracy: 0.775 -- Deviation 0.0 -- Precision  0.775 -- Recall 0.7790720035409707 -- Fscore: 0.7738120028948207\n",
            "dt_ent -- accuracy: 0.8278125 -- Deviation 0.0 -- Precision  0.8278125 -- Recall 0.8302841071630145 -- Fscore: 0.8275379273407616\n",
            "dt_gini -- accuracy: 0.8134375 -- Deviation 0.0 -- Precision  0.8134375 -- Recall 0.8172844337412661 -- Fscore: 0.812884332772516\n",
            "rf -- accuracy: 0.8684375 -- Deviation 0.0 -- Precision  0.8684375 -- Recall 0.8698934978526546 -- Fscore: 0.8689125319442546\n",
            "Total time for single run to check models:  857.102128352\n"
          ]
        }
      ],
      "source": [
        "from numpy import mean, std\n",
        "import warnings\n",
        "warnings.filterwarnings(\"ignore\")\n",
        "# get the models to evaluate\n",
        "models = base_models()\n",
        "# evaluate the models and store results\n",
        "Single_results, Single_names = list(), list()\n",
        "Single_run = 1\n",
        "start_single = timeit.default_timer()\n",
        "for name, model in models.items():\n",
        "\tscores, mod, prec, recall,fscore, timed = evaluate_model_Multi(model,X,y,Single_run) #,X_over,y_over)#, X, y)\n",
        "\tSingle_results.append(scores)\n",
        "\tSingle_names.append(name)\n",
        "\t#filename = 'Models/'+name+'.pkl'\n",
        "\t#pickle.dump(mod, open(filename, 'wb'))\n",
        "\tprint(name,'-- accuracy:', mean(scores), '-- Deviation',std(scores),'-- Precision ', mean(prec),'-- Recall', mean(recall),'-- Fscore:', mean(fscore))\n",
        "print('Total time for single run to check models: ', timeit.default_timer() - start_single) "
      ]
    },
    {
      "cell_type": "markdown",
      "metadata": {
        "id": "PrvFqz32K7Lx"
      },
      "source": [
        "Plot the models accuracy for better insights"
      ]
    },
    {
      "cell_type": "code",
      "execution_count": null,
      "metadata": {
        "id": "2NIKgbq3OW6X",
        "outputId": "eaf3ea5a-ded1-45a2-b58d-d7c87f268944"
      },
      "outputs": [
        {
          "data": {
            "image/png": "[encoded data removed]",
            "text/plain": [
              "<Figure size 720x432 with 1 Axes>"
            ]
          },
          "metadata": {
            "needs_background": "light"
          },
          "output_type": "display_data"
        }
      ],
      "source": [
        "plt.figure(figsize=(10, 6))\n",
        "plt.plot(Single_names,Single_results)\n",
        "plt.ylabel('Accuracy'); plt.xlabel('Models'); plt.title('Accuracy for different Models');\n",
        "plt.show()"
      ]
    },
    {
      "cell_type": "markdown",
      "metadata": {
        "id": "nhI4aGY2LAg7"
      },
      "source": [
        "* ***From the Plot Logistic Regression and Random forest classifier performed better than other models***"
      ]
    },
    {
      "cell_type": "markdown",
      "metadata": {
        "id": "_FID9ZROLj29"
      },
      "source": [
        "### Ensemble Methods\n",
        "\n",
        "* Using Logistic Regression and Random forest classifiers as the base model\n",
        "* Selecting based on the previous metric"
      ]
    },
    {
      "cell_type": "markdown",
      "metadata": {
        "id": "32AIW_3zLugi"
      },
      "source": [
        "#### Define Stacking model"
      ]
    },
    {
      "cell_type": "code",
      "execution_count": 68,
      "metadata": {
        "id": "WqcXJFyjdmIM"
      },
      "outputs": [],
      "source": [
        "def get_stacking():\n",
        "\t# define the base models: level0 models\n",
        "\tlevel0 = list()\n",
        "\tlevel0.append(('lr', LogisticRegression(solver='lbfgs', max_iter=500)))\n",
        "\tlevel0.append(('Rand', RandomForestClassifier(n_estimators=130, criterion='entropy')))\n",
        "\t#level0.append(('svm', SVC(kernel='linear')))\n",
        "\t# define meta learner model: level 1\n",
        "\tlevel1 = LogisticRegression(solver='lbfgs', max_iter=500)\n",
        "\t# define the stacking ensemble\n",
        "\tmodel = StackingClassifier(estimators=level0, final_estimator=level1, cv=5)\n",
        "\treturn model"
      ]
    },
    {
      "cell_type": "markdown",
      "metadata": {
        "id": "4Dn7FavXMSNB"
      },
      "source": [
        "#### Define Ensemble function "
      ]
    },
    {
      "cell_type": "code",
      "execution_count": 69,
      "metadata": {
        "id": "UnM96ZLahhGj"
      },
      "outputs": [],
      "source": [
        "def ensemble_model():\n",
        "  lr = LogisticRegression(solver='lbfgs', max_iter=500)               #Base model\n",
        "  rf = RandomForestClassifier(n_estimators=120, criterion='entropy')    #Base model\n",
        "  models = dict()\n",
        "  models['lr'] = LogisticRegression(solver='lbfgs', max_iter=500)\n",
        "  models['rf'] = RandomForestClassifier(n_estimators=120, criterion='entropy')\n",
        "  models['bagging_Lr'] = BaggingClassifier(base_estimator=lr, n_estimators=50, max_samples=0.8, max_features=0.8)\n",
        "  models['bagging_Rf'] = BaggingClassifier(base_estimator=rf, n_estimators=50, max_samples=0.8, max_features=0.8)\n",
        "  models['adaboost_lr'] = AdaBoostClassifier(base_estimator=lr, n_estimators=800)\n",
        "  #models['adaboost_RF'] = AdaBoostClassifier(base_estimator=rf, n_estimators=800)\n",
        "  models['stacking'] = get_stacking()\n",
        "  return models"
      ]
    },
    {
      "cell_type": "markdown",
      "metadata": {
        "id": "Rgj4q2ErMnJK"
      },
      "source": [
        "#### Model Evaluation"
      ]
    },
    {
      "cell_type": "markdown",
      "metadata": {
        "id": "mAV3zTfLNHP7"
      },
      "source": [
        "Using 100 Monte Carlo runs"
      ]
    },
    {
      "cell_type": "code",
      "execution_count": 71,
      "metadata": {
        "colab": {
          "base_uri": "https://localhost:8080/"
        },
        "id": "RDcUo9nWkSlE",
        "outputId": "7544d7c2-6c63-4e81-8ecd-17e7bf6c27fb"
      },
      "outputs": [
        {
          "name": "stdout",
          "output_type": "stream",
          "text": [
            "lr -- accuracy: 0.87125 -- Deviation 0.0 -- Precision  0.87125 -- Recall 0.8712349502909648 -- Fscore: 0.8704569731892718\n",
            "rf -- accuracy: 0.8715625 -- Deviation 0.0 -- Precision  0.8715625 -- Recall 0.8730719394735402 -- Fscore: 0.8720274934020034\n",
            "bagging_Lr -- accuracy: 0.87 -- Deviation 0.0 -- Precision  0.87 -- Recall 0.8704134293554157 -- Fscore: 0.8679641834776777\n",
            "bagging_Rf -- accuracy: 0.8696875 -- Deviation 0.0 -- Precision  0.8696875 -- Recall 0.8700790688775655 -- Fscore: 0.8696695191463604\n",
            "adaboost_lr -- accuracy: 0.7890625 -- Deviation 0.0 -- Precision  0.7890625 -- Recall 0.8070980370125586 -- Fscore: 0.7800443208843663\n",
            "stacking -- accuracy: 0.8790625 -- Deviation 0.0 -- Precision  0.8790625 -- Recall 0.8784870890792686 -- Fscore: 0.8785583830821986\n",
            "Total time to run 100 Monte carlo runs:  2182.702778816223\n"
          ]
        }
      ],
      "source": [
        "from numpy import mean, std\n",
        "import warnings\n",
        "warnings.filterwarnings(\"ignore\")\n",
        "\n",
        "# get the models to evaluate\n",
        "models = ensemble_model()\n",
        "# evaluate the models and store results\n",
        "mul_results, mul_names = list(), list()\n",
        "number_of_runs = 100\n",
        "start_multi = time.time()\n",
        "for name, model in models.items():\n",
        "\tscores, mod, prec, recall, fscore, timed = evaluate_model_Multi(model, X, y, number_of_runs) #,X_over,y_over)#, X, y)\n",
        "\tmul_results.append(scores)\n",
        "\tmul_names.append(name)\n",
        "\tfilename = 'Models/'+name+'.pkl'\n",
        "\tpickle.dump(mod, open(filename, 'wb'))\n",
        "\tprint(name,'-- accuracy:', mean(scores), '-- Deviation',std(scores),'-- Precision ', mean(prec),'-- Recall', mean(recall),'-- Fscore:', mean(fscore))\n",
        "print('Total time to run 100 Monte carlo runs: ', time.time() - start_multi) "
      ]
    },
    {
      "cell_type": "markdown",
      "metadata": {
        "id": "_5OfeSb8Ng0n"
      },
      "source": [
        "Plot the accuracy to model metric to evaluate performance "
      ]
    },
    {
      "cell_type": "code",
      "execution_count": 72,
      "metadata": {
        "id": "RQgrbXE1vHoQ",
        "outputId": "1f9472b4-32ce-4876-c561-d9ddb3d278cc"
      },
      "outputs": [
        {
          "data": {
            "image/png": "[encoded data removed]",
            "text/plain": [
              "<Figure size 576x432 with 1 Axes>"
            ]
          },
          "metadata": {
            "needs_background": "light"
          },
          "output_type": "display_data"
        }
      ],
      "source": [
        "plt.figure(figsize=(8, 6))\n",
        "plt.plot(mul_names, mul_results)\n",
        "plt.ylabel('Accuracy'); plt.xlabel('Models'); plt.title('Accuracy for different Models');\n",
        "plt.show()"
      ]
    },
    {
      "cell_type": "markdown",
      "metadata": {
        "id": "HBNzp-r0Npgm"
      },
      "source": [
        "* ***From the Above Graph Linear Regression and Stacking approch gave the best Performance***"
      ]
    },
    {
      "cell_type": "markdown",
      "metadata": {
        "id": "mgG67VaiN-Kw"
      },
      "source": [
        "Define Cross Validation Model Evaluation"
      ]
    },
    {
      "cell_type": "code",
      "execution_count": null,
      "metadata": {
        "id": "r-T4ETxSkiVF"
      },
      "outputs": [],
      "source": [
        "def evaluate_model_cross(model, X, y):\n",
        "\tcv = 4\n",
        "\tscores = cross_val_score(model, X, y, scoring='accuracy', cv=cv)\n",
        "\treturn scores"
      ]
    },
    {
      "cell_type": "markdown",
      "metadata": {
        "id": "RaisRzp5OHuc"
      },
      "source": [
        "Model Evaluation from cross validation Scores"
      ]
    },
    {
      "cell_type": "code",
      "execution_count": null,
      "metadata": {
        "id": "supraDeXku1L",
        "outputId": "3833f33e-8b30-41d7-a5f7-289ab9d5c1a5"
      },
      "outputs": [
        {
          "name": "stdout",
          "output_type": "stream",
          "text": [
            ">lr 0.873 (0.007)\n",
            ">rf 0.866 (0.005)\n",
            ">bagging_Lr 0.873 (0.007)\n",
            ">bagging_Rf 0.867 (0.006)\n",
            ">adaboost_lr 0.789 (0.007)\n",
            ">stacking 0.876 (0.005)\n"
          ]
        }
      ],
      "source": [
        "from numpy import mean, std\n",
        "# get the models to evaluate\n",
        "models = ensemble_model()\n",
        "# evaluate the models and store results\n",
        "cross_results, cross_names = list(), list()\n",
        "for name, model in models.items():\n",
        "\tscores = evaluate_model_cross(model, X, y)\n",
        "\tcross_results.append(scores)\n",
        "\tcross_names.append(name)\n",
        "\t#filename = 'Models/'+name+'_cv.pkl'\n",
        "\t#pickle.dump(model, open(filename, 'wb'))\n",
        "\tprint('>%s %.3f (%.3f)' % (name, mean(scores), std(scores)))"
      ]
    },
    {
      "cell_type": "markdown",
      "metadata": {
        "id": "0u3HPN4VOQl4"
      },
      "source": [
        "Calculate the accuracy to model evaluation performance"
      ]
    },
    {
      "cell_type": "code",
      "execution_count": null,
      "metadata": {
        "id": "n4bp-iG3xbXN",
        "outputId": "d9e48502-d110-4761-ff70-0cd37e0b6a1c"
      },
      "outputs": [
        {
          "data": {
            "image/png": "[encoded data removed]",
            "text/plain": [
              "<Figure size 576x432 with 1 Axes>"
            ]
          },
          "metadata": {},
          "output_type": "display_data"
        }
      ],
      "source": [
        "plt.figure(figsize=(8, 6))\n",
        "plt.boxplot(cross_results, labels=cross_names, showmeans=True)\n",
        "plt.ylabel('Accuracy'); plt.xlabel('Models'); plt.title('Accuracy for different Models');\n",
        "plt.show()"
      ]
    },
    {
      "cell_type": "markdown",
      "metadata": {
        "id": "wtS3T3NuO7tL"
      },
      "source": [
        "* ***From the Graph above Logistic Regression and Stacking methord performed better compared to other with high accuracy and deviation in Accuracy***"
      ]
    },
    {
      "cell_type": "markdown",
      "metadata": {
        "id": "Fcw-VHODPSxC"
      },
      "source": [
        "## Hyperparameter Tuning"
      ]
    },
    {
      "cell_type": "markdown",
      "metadata": {
        "id": "DBjVPL-BPmx3"
      },
      "source": [
        "### Different Test-Train set evaluation"
      ]
    },
    {
      "cell_type": "code",
      "execution_count": 60,
      "metadata": {},
      "outputs": [
        {
          "name": "stdout",
          "output_type": "stream",
          "text": [
            "{'LR': [{0.2: 0.87125, 0.3: 0.8710416666666667, 0.4: 0.87234375, 0.5: 0.867875, 0.6: 0.8617708333333334}], 'svm_Linear': [{0.2: 0.860625, 0.3: 0.861875, 0.4: 0.85953125, 0.5: 0.85125, 0.6: 0.8530208333333333}], 'svm_Polly': [{0.2: 0.61, 0.3: 0.5839583333333334, 0.4: 0.56921875, 0.5: 0.5475, 0.6: 0.4759375}], 'svm_RBF': [{0.2: 0.836875, 0.3: 0.8333333333333334, 0.4: 0.828125, 0.5: 0.8185, 0.6: 0.8019791666666667}], 'svm_Sigmoid': [{0.2: 0.775, 0.3: 0.7908333333333334, 0.4: 0.80171875, 0.5: 0.8095, 0.6: 0.8005208333333333}], 'dt_ent': [{0.2: 0.82, 0.3: 0.8122916666666666, 0.4: 0.8146875, 0.5: 0.805625, 0.6: 0.8040625}], 'dt_gini': [{0.2: 0.8175, 0.3: 0.815625, 0.4: 0.80515625, 0.5: 0.81125, 0.6: 0.8103125}], 'rf': [{0.2: 0.8715625, 0.3: 0.870625, 0.4: 0.86921875, 0.5: 0.8585, 0.6: 0.8470833333333333}]}\n"
          ]
        }
      ],
      "source": [
        "import numpy as np\n",
        "\n",
        "def testmodels():\n",
        "    models = dict()\n",
        "    models['LR'] = LogisticRegression(solver='lbfgs', max_iter=500)\n",
        "    models['svm_Linear'] = SVC(kernel='linear')\n",
        "    models['svm_Polly'] = SVC(kernel='poly')\n",
        "    models['svm_RBF'] = SVC(kernel='rbf')\n",
        "    models['svm_Sigmoid'] = SVC(kernel='sigmoid')\n",
        "    models['dt_ent'] = DecisionTreeClassifier(criterion='entropy')\n",
        "    models['dt_gini'] = DecisionTreeClassifier(criterion='gini')\n",
        "    models['rf'] = RandomForestClassifier(n_estimators=130, criterion='entropy')\n",
        "    return models\n",
        "  \n",
        "tsize = [0.2,0.3,0.4,0.5,0.6]\n",
        "models = testmodels()\n",
        "models_acc = {}\n",
        "for name, model in models.items():\n",
        "    tsize_acc = {}\n",
        "    for i in tsize:\n",
        "        acc = []\n",
        "        for j in range(1):\n",
        "            X_train,X_test,y_train,y_test = train_test_split(X,y,test_size=i, random_state = j)\n",
        "            mod = model\n",
        "            mod.fit(X_train, y_train)\n",
        "            mod_pred = mod.predict(X_test)\n",
        "            accuracy = accuracy_score(y_test,mod_pred)\n",
        "            acc.append(accuracy)\n",
        "        tsize_acc.update({i: np.mean(acc)})\n",
        "    models_acc.update({name:[tsize_acc]})\n",
        "print(models_acc)"
      ]
    },
    {
      "cell_type": "markdown",
      "metadata": {},
      "source": [
        "Plot the metric on the graph for better visualization "
      ]
    },
    {
      "cell_type": "code",
      "execution_count": 73,
      "metadata": {},
      "outputs": [
        {
          "data": {
            "image/png": "[encoded data removed]",
            "text/plain": [
              "<Figure size 432x288 with 1 Axes>"
            ]
          },
          "metadata": {
            "needs_background": "light"
          },
          "output_type": "display_data"
        }
      ],
      "source": [
        "c = 0\n",
        "for i,j in models_acc.items():\n",
        "    tsize_plt = models_acc[i][c]\n",
        "    plt.plot(*zip(*sorted(tsize_plt.items())),label = i) #, linestyle=\"-\")\n",
        "    plt.ylabel('Accuracy'); plt.xlabel('test split'); plt.title('Accuracy for different Train Test');\n",
        "plt.legend()\n",
        "plt.show()"
      ]
    },
    {
      "cell_type": "markdown",
      "metadata": {},
      "source": [
        "* ***From the Graph different models perform differntly for differnet Test_size. But we can consider Logistic Regression with test size 0.2 as it out performed other models***"
      ]
    },
    {
      "cell_type": "markdown",
      "metadata": {
        "id": "j6dcO6qlQ2BX"
      },
      "source": [
        "### Evaluating with different Cross validation n_estimators"
      ]
    },
    {
      "cell_type": "code",
      "execution_count": 63,
      "metadata": {
        "id": "mmemhO_Mywr2"
      },
      "outputs": [],
      "source": [
        "num_est = np.arange(2,16,4)\n",
        "lr_cv_mean = []\n",
        "lr_cv_std = []\n",
        "for n_est in num_est:\n",
        "    lr = LogisticRegression(solver='lbfgs', max_iter=500) \n",
        "    scores = cross_val_score(lr, X, y, cv=n_est, scoring='accuracy')\n",
        "    lr_cv_mean.append(scores.mean())\n",
        "    lr_cv_std.append(scores.std())"
      ]
    },
    {
      "cell_type": "markdown",
      "metadata": {
        "id": "UEDmH6E3Rl01"
      },
      "source": [
        "Plot the performance for different Values of Estimators"
      ]
    },
    {
      "cell_type": "code",
      "execution_count": 64,
      "metadata": {
        "colab": {
          "base_uri": "https://localhost:8080/",
          "height": 306
        },
        "id": "jS6qNSTCyyq7",
        "outputId": "482349fe-12ef-4e53-d3d5-a54b44324523"
      },
      "outputs": [
        {
          "data": {
            "image/png": "[encoded data removed]",
            "text/plain": [
              "<Figure size 360x288 with 1 Axes>"
            ]
          },
          "metadata": {
            "needs_background": "light"
          },
          "output_type": "display_data"
        }
      ],
      "source": [
        "plt.figure(figsize=(5, 4))\n",
        "plt.errorbar(num_est, lr_cv_mean, yerr=lr_cv_std,c='blue', fmt='-o', capsize=5)\n",
        "plt.ylabel('Accuracy'); plt.xlabel('Estimators'); plt.title('Cross validation Kfold cv score');\n",
        "plt.show()"
      ]
    },
    {
      "cell_type": "markdown",
      "metadata": {
        "id": "b-EY7R6hR7wW"
      },
      "source": [
        "* ***From the graph 4 number of estimators perfomed better because of less deviation in Accuracy***"
      ]
    },
    {
      "cell_type": "markdown",
      "metadata": {
        "id": "GLtF_vz-Q-uI"
      },
      "source": [
        "### Evaluate with different N-Estimators for Random forest Regressor"
      ]
    },
    {
      "cell_type": "code",
      "execution_count": null,
      "metadata": {
        "id": "tOHP1gyJqyAW"
      },
      "outputs": [],
      "source": [
        "num_est = np.arange(10,150,10)\n",
        "bg_clf_cv_mean = []\n",
        "bg_clf_cv_std = []\n",
        "for n_est in num_est:\n",
        "    mod = RandomForestClassifier(n_estimators = n_est, criterion='entropy')\n",
        "    mod.fit(X_train, y_train)\n",
        "    mod_pred = mod.predict(X_test)\n",
        "    accuracy = accuracy_score(y_test,mod_pred)\n",
        "    bg_clf_cv_mean.append(accuracy.mean())\n",
        "    bg_clf_cv_std.append(accuracy.std())"
      ]
    },
    {
      "cell_type": "markdown",
      "metadata": {
        "id": "LF7aRQqnSfbM"
      },
      "source": [
        "Plot the performace by accuracy and different n estimators"
      ]
    },
    {
      "cell_type": "code",
      "execution_count": null,
      "metadata": {
        "colab": {
          "base_uri": "https://localhost:8080/",
          "height": 306
        },
        "id": "W03wXwbasW3g",
        "outputId": "43c76ad0-9a79-42b2-cdf4-38dff0026235"
      },
      "outputs": [
        {
          "data": {
            "image/png": "[encoded data removed]",
            "text/plain": [
              "<Figure size 432x288 with 1 Axes>"
            ]
          },
          "metadata": {
            "needs_background": "light"
          },
          "output_type": "display_data"
        }
      ],
      "source": [
        "plt.figure(figsize=(6, 4))\n",
        "plt.errorbar(num_est, bg_clf_cv_mean, yerr=bg_clf_cv_std,c='blue', fmt='-o', capsize=5)\n",
        "plt.ylabel('Accuracy'); plt.xlabel('steps'); plt.title('Random forest n estimators');\n",
        "plt.show()"
      ]
    },
    {
      "cell_type": "markdown",
      "metadata": {
        "id": "E0wyfKwvUMwa"
      },
      "source": [
        "* ***From the graph 120 number of estimators for Random forest performs better compared to other values***"
      ]
    },
    {
      "cell_type": "markdown",
      "metadata": {
        "id": "aTfDK5QcUiwA"
      },
      "source": [
        "Evaluate with differnet n-estimators for Ada Boost "
      ]
    },
    {
      "cell_type": "code",
      "execution_count": null,
      "metadata": {
        "id": "WBEPXIGwsi16"
      },
      "outputs": [],
      "source": [
        "lr = LogisticRegression(solver='lbfgs', max_iter=500) \n",
        "\n",
        "num_ada_est = np.arange(100,1000,100)\n",
        "ada_clf_cv_mean = []\n",
        "ada_clf_cv_std = []\n",
        "for n_est in num_ada_est:\n",
        "    mod = AdaBoostClassifier(base_estimator=lr, n_estimators=n_est)\n",
        "    mod.fit(X_train, y_train)\n",
        "    mod_pred = mod.predict(X_test)\n",
        "    accuracy = accuracy_score(y_test,mod_pred)\n",
        "    ada_clf_cv_mean.append(accuracy.mean())\n",
        "    ada_clf_cv_std.append(accuracy.std())"
      ]
    },
    {
      "cell_type": "markdown",
      "metadata": {
        "id": "XmiBPmnbWDhs"
      },
      "source": [
        "Plot the performace by accuracy and different n estimators"
      ]
    },
    {
      "cell_type": "code",
      "execution_count": null,
      "metadata": {
        "colab": {
          "base_uri": "https://localhost:8080/",
          "height": 415
        },
        "id": "aRa6Rp3e3Zyu",
        "outputId": "0e44b421-2be7-41ee-a5e1-5915ef39fcbc"
      },
      "outputs": [
        {
          "data": {
            "image/png": "[encoded data removed]",
            "text/plain": [
              "<Figure size 720x432 with 1 Axes>"
            ]
          },
          "metadata": {
            "needs_background": "light"
          },
          "output_type": "display_data"
        }
      ],
      "source": [
        "plt.figure(figsize=(10, 6))\n",
        "plt.errorbar(num_ada_est, ada_clf_cv_mean, yerr=ada_clf_cv_std,c='blue', fmt='-o', capsize=5)\n",
        "plt.ylabel('Accuracy'); plt.xlabel('steps'); plt.title('Ada boost N estimators');\n",
        "plt.show()"
      ]
    },
    {
      "cell_type": "markdown",
      "metadata": {
        "id": "d2NQaj17WMHh"
      },
      "source": [
        "* ***From the evaluation 900 number of estimators performed better comparted to other***"
      ]
    },
    {
      "cell_type": "markdown",
      "metadata": {
        "id": "3OeR2nF6YQ9R"
      },
      "source": [
        "## Best Classifier"
      ]
    },
    {
      "cell_type": "markdown",
      "metadata": {
        "id": "wn8GGYKzYgYU"
      },
      "source": [
        "### After validating the results the best classifier for our data set is  \n",
        "\n",
        "* Logistic Regression and Stacking classifiers are the two best classifiers for our dataset.\n",
        "\n",
        "* Logistic Regression could be better classifier compared to Stacking classifier due to the below advantages and limitaitons."
      ]
    },
    {
      "cell_type": "markdown",
      "metadata": {
        "id": "PxS_h4VZY_eq"
      },
      "source": [
        "## Advantages and Limitations "
      ]
    },
    {
      "cell_type": "markdown",
      "metadata": {
        "id": "obGz5UROZOWb"
      },
      "source": [
        "* Advatage is the performace is better compared to any of the other model with very low deviation in accuracy.\n",
        "\n",
        "* Time consumed to train Stacking classifier is much higher compared to logistic regression which have almost same performance of stacking classifier.\n",
        "\n",
        "* The weight of Stacking classifier is much higher compared to logistic regression."
      ]
    }
  ],
  "metadata": {
    "colab": {
      "include_colab_link": true,
      "name": "ML_CA_02-Part-1.ipynb",
      "provenance": []
    },
    "kernelspec": {
      "display_name": "Python 3",
      "name": "python3"
    },
    "language_info": {
      "codemirror_mode": {
        "name": "ipython",
        "version": 3
      },
      "file_extension": ".py",
      "mimetype": "text/x-python",
      "name": "python",
      "nbconvert_exporter": "python",
      "pygments_lexer": "ipython3",
      "version": "3.9.8"
    }
  },
  "nbformat": 4,
  "nbformat_minor": 0
}
