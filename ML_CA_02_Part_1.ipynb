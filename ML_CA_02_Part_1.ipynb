{
  "cells": [
    {
      "cell_type": "markdown",
      "metadata": {
        "colab_type": "text",
        "id": "view-in-github"
      },
      "source": [
        "<a href=\"https://colab.research.google.com/github/divyakumar95/emotionAnalysis/blob/main/ML_CA_02_Part_1.ipynb\" target=\"_parent\"><img src=\"https://colab.research.google.com/assets/colab-badge.svg\" alt=\"Open In Colab\"/></a>"
      ]
    },
    {
      "cell_type": "markdown",
      "metadata": {
        "id": "pFQUH0tg2HTT"
      },
      "source": [
        "Data Sources\n",
        "\n",
        "* https://www.kaggle.com/parulpandey/emotion-dataset/download\n",
        "* https://drive.google.com/drive/u/1/folders/1oRZNWkOLESPNiW-nLZrh-wNe2G7eS9ln"
      ]
    },
    {
      "cell_type": "markdown",
      "metadata": {
        "id": "_jSWeUdW2afF"
      },
      "source": [
        "Text to Number conversion Sources\n",
        "\n",
        "* https://thecleverprogrammer.com/2021/04/17/convert-text-into-numerical-data-using-python/"
      ]
    },
    {
      "cell_type": "markdown",
      "metadata": {
        "id": "WNBmV-If26MA"
      },
      "source": [
        "Importing Data - Source code\n",
        "\n",
        "* https://colab.research.google.com/notebooks/io.ipynb"
      ]
    },
    {
      "cell_type": "code",
      "execution_count": 2,
      "metadata": {
        "colab": {
          "base_uri": "https://localhost:8080/"
        },
        "id": "KpGdd1bC251y",
        "outputId": "4232c39d-dcea-4de9-a1e7-c1f3dc60cb80"
      },
      "outputs": [
        {
          "ename": "ModuleNotFoundError",
          "evalue": "No module named 'google.colab'",
          "output_type": "error",
          "traceback": [
            "\u001b[0;31m---------------------------------------------------------------------------\u001b[0m",
            "\u001b[0;31mModuleNotFoundError\u001b[0m                       Traceback (most recent call last)",
            "\u001b[0;32m/var/folders/mm/7bgc4zd952jbp3d4s_gx2yvm0000gn/T/ipykernel_2662/1408506528.py\u001b[0m in \u001b[0;36m<module>\u001b[0;34m\u001b[0m\n\u001b[0;32m----> 1\u001b[0;31m \u001b[0;32mfrom\u001b[0m \u001b[0mgoogle\u001b[0m\u001b[0;34m.\u001b[0m\u001b[0mcolab\u001b[0m \u001b[0;32mimport\u001b[0m \u001b[0mdrive\u001b[0m\u001b[0;34m\u001b[0m\u001b[0;34m\u001b[0m\u001b[0m\n\u001b[0m\u001b[1;32m      2\u001b[0m \u001b[0mdrive\u001b[0m\u001b[0;34m.\u001b[0m\u001b[0mmount\u001b[0m\u001b[0;34m(\u001b[0m\u001b[0;34m'/content/drive'\u001b[0m\u001b[0;34m)\u001b[0m\u001b[0;34m\u001b[0m\u001b[0;34m\u001b[0m\u001b[0m\n",
            "\u001b[0;31mModuleNotFoundError\u001b[0m: No module named 'google.colab'"
          ]
        }
      ],
      "source": [
        "from google.colab import drive\n",
        "drive.mount('/content/drive')"
      ]
    },
    {
      "cell_type": "markdown",
      "metadata": {
        "id": "osiHh6za3qQU"
      },
      "source": [
        "Data Files path"
      ]
    },
    {
      "cell_type": "code",
      "execution_count": 3,
      "metadata": {
        "id": "6mKSdtWD1_1d"
      },
      "outputs": [],
      "source": [
        "Drive_data = '/content/drive/MyDrive/Text_data/training.csv'\n",
        "local_data = 'Data/training.csv'"
      ]
    },
    {
      "cell_type": "code",
      "execution_count": 6,
      "metadata": {
        "id": "kX3JbJVE3mad"
      },
      "outputs": [],
      "source": [
        "import numpy as np\n",
        "import pandas as pd\n",
        "import matplotlib.pyplot as plt\n",
        "import warnings\n",
        "warnings.filterwarnings(\"ignore\", category=FutureWarning)\n",
        "import plotly.io as pio\n",
        "pio.renderers.default = 'iframe_connected'"
      ]
    },
    {
      "cell_type": "code",
      "execution_count": 7,
      "metadata": {
        "id": "5hC9dkeL35fq"
      },
      "outputs": [],
      "source": [
        "import seaborn as sns\n",
        "sns.set(style='whitegrid', palette='muted', font_scale=1.2)\n",
        "colors = [\"#01BEFE\", \"#FFDD00\", \"#FF7D00\", \"#FF006D\", \"#ADFF02\", \"#8F00FF\"]\n",
        "sns.set_palette(sns.color_palette(colors))\n",
        "plt.rcParams['figure.figsize'] = 12, 8"
      ]
    },
    {
      "cell_type": "code",
      "execution_count": 8,
      "metadata": {
        "id": "PQ1SWTz_363A"
      },
      "outputs": [],
      "source": [
        "import os \n",
        "if os.path.exists(Drive_data):\n",
        "    data = pd.read_csv(Drive_data)\n",
        "else:\n",
        "    data = pd.read_csv(local_data)"
      ]
    },
    {
      "cell_type": "code",
      "execution_count": 9,
      "metadata": {
        "colab": {
          "base_uri": "https://localhost:8080/",
          "height": 206
        },
        "id": "h2FixRIb4Ia_",
        "outputId": "1d30e8d5-5545-468c-97aa-fcbb08837713"
      },
      "outputs": [
        {
          "data": {
            "text/html": [
              "<div>\n",
              "<style scoped>\n",
              "    .dataframe tbody tr th:only-of-type {\n",
              "        vertical-align: middle;\n",
              "    }\n",
              "\n",
              "    .dataframe tbody tr th {\n",
              "        vertical-align: top;\n",
              "    }\n",
              "\n",
              "    .dataframe thead th {\n",
              "        text-align: right;\n",
              "    }\n",
              "</style>\n",
              "<table border=\"1\" class=\"dataframe\">\n",
              "  <thead>\n",
              "    <tr style=\"text-align: right;\">\n",
              "      <th></th>\n",
              "      <th>text</th>\n",
              "      <th>label</th>\n",
              "      <th>description</th>\n",
              "    </tr>\n",
              "  </thead>\n",
              "  <tbody>\n",
              "    <tr>\n",
              "      <th>0</th>\n",
              "      <td>i didnt feel humiliated</td>\n",
              "      <td>0</td>\n",
              "      <td>sadness</td>\n",
              "    </tr>\n",
              "    <tr>\n",
              "      <th>1</th>\n",
              "      <td>i can go from feeling so hopeless to so damned...</td>\n",
              "      <td>0</td>\n",
              "      <td>sadness</td>\n",
              "    </tr>\n",
              "    <tr>\n",
              "      <th>2</th>\n",
              "      <td>im grabbing a minute to post i feel greedy wrong</td>\n",
              "      <td>3</td>\n",
              "      <td>anger</td>\n",
              "    </tr>\n",
              "    <tr>\n",
              "      <th>3</th>\n",
              "      <td>i am ever feeling nostalgic about the fireplac...</td>\n",
              "      <td>2</td>\n",
              "      <td>love</td>\n",
              "    </tr>\n",
              "    <tr>\n",
              "      <th>4</th>\n",
              "      <td>i am feeling grouchy</td>\n",
              "      <td>3</td>\n",
              "      <td>anger</td>\n",
              "    </tr>\n",
              "  </tbody>\n",
              "</table>\n",
              "</div>"
            ],
            "text/plain": [
              "                                                text  label description\n",
              "0                            i didnt feel humiliated      0     sadness\n",
              "1  i can go from feeling so hopeless to so damned...      0     sadness\n",
              "2   im grabbing a minute to post i feel greedy wrong      3       anger\n",
              "3  i am ever feeling nostalgic about the fireplac...      2        love\n",
              "4                               i am feeling grouchy      3       anger"
            ]
          },
          "execution_count": 9,
          "metadata": {},
          "output_type": "execute_result"
        }
      ],
      "source": [
        "labels_dict = {0:'sadness', 1:'joy', 2:'love', 3:'anger', 4:'fear', 5:'surprise'}\n",
        "data['description'] = data['label'].map(labels_dict )\n",
        "data.head()"
      ]
    },
    {
      "cell_type": "code",
      "execution_count": 10,
      "metadata": {
        "colab": {
          "base_uri": "https://localhost:8080/"
        },
        "id": "LVK_pLvW4Nwg",
        "outputId": "503e24fc-496c-4ed6-ad57-d08b24d80d60"
      },
      "outputs": [
        {
          "data": {
            "text/plain": [
              "joy         0.335125\n",
              "sadness     0.291625\n",
              "anger       0.134937\n",
              "fear        0.121063\n",
              "love        0.081500\n",
              "surprise    0.035750\n",
              "Name: description, dtype: float64"
            ]
          },
          "execution_count": 10,
          "metadata": {},
          "output_type": "execute_result"
        }
      ],
      "source": [
        "data['description'].value_counts(normalize=True)"
      ]
    },
    {
      "cell_type": "code",
      "execution_count": 11,
      "metadata": {
        "id": "kk0pZwz84S3W"
      },
      "outputs": [],
      "source": [
        "from sklearn.feature_extraction.text import CountVectorizer\n",
        "vect = CountVectorizer(max_features=1500, min_df=5, max_df=0.7, stop_words='english')"
      ]
    },
    {
      "cell_type": "code",
      "execution_count": 12,
      "metadata": {
        "colab": {
          "base_uri": "https://localhost:8080/"
        },
        "id": "duAnmQP24nOc",
        "outputId": "6059d999-0e0c-4ad8-9609-81bd4fa5d659"
      },
      "outputs": [
        {
          "name": "stdout",
          "output_type": "stream",
          "text": [
            "['ability', 'able', 'absolutely', 'abused', 'accept', 'acceptable', 'accepted', 'accomplished', 'ache', 'aching']\n"
          ]
        }
      ],
      "source": [
        "new_vect = vect.fit_transform(data['text'].values)\n",
        "print(vect.get_feature_names()[:10])"
      ]
    },
    {
      "cell_type": "code",
      "execution_count": 13,
      "metadata": {
        "id": "Nj02k3Lt49_J"
      },
      "outputs": [],
      "source": [
        "X = new_vect.toarray()\n",
        "y = data['label']"
      ]
    },
    {
      "cell_type": "code",
      "execution_count": 14,
      "metadata": {
        "colab": {
          "base_uri": "https://localhost:8080/"
        },
        "id": "MwnE5NWXBgH0",
        "outputId": "55314da7-12bd-4b10-ec8e-b4f6460384f6"
      },
      "outputs": [
        {
          "name": "stdout",
          "output_type": "stream",
          "text": [
            "X Shape (16000, 1500)\n",
            "Y Shape (16000,)\n"
          ]
        }
      ],
      "source": [
        "print(\"X Shape\",X.shape)\n",
        "print(\"Y Shape\",y.shape)"
      ]
    },
    {
      "cell_type": "code",
      "execution_count": 15,
      "metadata": {
        "colab": {
          "base_uri": "https://localhost:8080/"
        },
        "id": "O3nufzsGTbdh",
        "outputId": "7d4712e3-e100-4844-ad76-7c19201b9e03"
      },
      "outputs": [
        {
          "data": {
            "text/plain": [
              "Counter({0: 4666, 3: 2159, 2: 1304, 5: 572, 4: 1937, 1: 5362})"
            ]
          },
          "execution_count": 15,
          "metadata": {},
          "output_type": "execute_result"
        }
      ],
      "source": [
        "from collections import Counter\n",
        "Counter(y)"
      ]
    },
    {
      "cell_type": "code",
      "execution_count": null,
      "metadata": {
        "colab": {
          "base_uri": "https://localhost:8080/"
        },
        "id": "IleS1js2XXyv",
        "outputId": "e5c3d3a2-6db0-4278-a28c-7b5f95c75c0b"
      },
      "outputs": [],
      "source": [
        "from imblearn.over_sampling import RandomOverSampler, SMOTE\n",
        "from imblearn.under_sampling import RandomUnderSampler\n",
        "\n",
        "sample = RandomOverSampler(sampling_strategy='minority')\n",
        "#sample = RandomUnderSampler(replacement=True)\n",
        " \n",
        "# fit and apply the transform\n",
        "X_over, y_over = SMOTE().fit_resample(X, y)\n",
        "\n",
        "print(Counter(y_over))"
      ]
    },
    {
      "cell_type": "code",
      "execution_count": 25,
      "metadata": {
        "id": "5iwjofnOXb5k"
      },
      "outputs": [],
      "source": [
        "from sklearn.metrics import accuracy_score,confusion_matrix, classification_report\n",
        "from sklearn.tree import DecisionTreeClassifier # decision tee algorithm for classification\n",
        "from sklearn.naive_bayes import CategoricalNB, GaussianNB\n",
        "from sklearn.model_selection import train_test_split, cross_val_score\n",
        "from sklearn.ensemble import RandomForestClassifier, StackingClassifier, BaggingClassifier, AdaBoostClassifier\n",
        "from sklearn.linear_model import LogisticRegression\n",
        "from sklearn.svm import SVR,SVC\n",
        "from sklearn.metrics import accuracy_score, precision_score, recall_score, f1_score, plot_roc_curve\n",
        "import pickle\n",
        "import timeit, time"
      ]
    },
    {
      "cell_type": "markdown",
      "metadata": {
        "id": "pindhxPmcVDb"
      },
      "source": [
        "https://scikit-learn.org/stable/modules/linear_model.html#logistic-regression"
      ]
    },
    {
      "cell_type": "code",
      "execution_count": 21,
      "metadata": {
        "id": "Z0ipHzr2cA60"
      },
      "outputs": [],
      "source": [
        "def base_models():\n",
        "  models = dict()\n",
        "  models['lr'] = LogisticRegression(solver='lbfgs', max_iter=500)\n",
        "  models['svm_Linear'] = SVC(kernel='linear')\n",
        "  models['svm_Polly'] = SVC(kernel='poly')\n",
        "  models['svm_RBF'] = SVC(kernel='rbf')\n",
        "  models['svm_Sigmoid'] = SVC(kernel='sigmoid')\n",
        "  models['dt_ent'] = DecisionTreeClassifier(criterion='entropy')\n",
        "  models['dt_gini'] = DecisionTreeClassifier(criterion='gini')\n",
        "  models['rf'] = RandomForestClassifier(n_estimators=130, criterion='entropy')\n",
        "  return models"
      ]
    },
    {
      "cell_type": "markdown",
      "metadata": {
        "id": "QcnkJpU6lG_D"
      },
      "source": [
        "Monte carlo runs"
      ]
    },
    {
      "cell_type": "code",
      "execution_count": 22,
      "metadata": {
        "id": "y6UpTGvFcpFw"
      },
      "outputs": [],
      "source": [
        "def evaluate_model_Multi(model, X, y, mc):\n",
        "  acc = [] ### Blank vector\n",
        "  f = []\n",
        "  prec = []\n",
        "  rec = []\n",
        "  single = timeit.default_timer()\n",
        "  for i in range(mc):\n",
        "    X_train,X_test,y_train,y_test=train_test_split(X,y,test_size=0.2, random_state=i)# split dataset\n",
        "    dt = model.fit(X_train,y_train) # fit the model\n",
        "    YPred = dt.predict(X_test) # predict\n",
        "    a = accuracy_score(y_test,YPred) # compute accuracy\n",
        "    acc.append(a) # append accuracy\n",
        "    f1 = f1_score(y_test, YPred, average='weighted')\n",
        "    precision = precision_score(y_test, YPred, average='weighted')\n",
        "    recall = recall_score(y_test, YPred, average='weighted')\n",
        "    f.append(f1)\n",
        "    prec.append(precision)\n",
        "    rec.append(recall)\n",
        "    timed = timeit.default_timer() - single\n",
        "    return np.mean(acc), dt, np.mean(recall), np.mean(prec),np.mean(f), np.mean(timed)"
      ]
    },
    {
      "cell_type": "code",
      "execution_count": 24,
      "metadata": {
        "colab": {
          "base_uri": "https://localhost:8080/"
        },
        "id": "2bv1TS2xXyn7",
        "outputId": "2ac7253b-1e3d-46db-8bdb-9df527af2d9e"
      },
      "outputs": [
        {
          "name": "stdout",
          "output_type": "stream",
          "text": [
            "lr -- accuracy: 0.87125 -- Deviation 0.0 -- Precision  0.87125 -- Recall 0.8712349502909648 -- Fscore: 0.8704569731892718\n",
            "svm_Linear -- accuracy: 0.860625 -- Deviation 0.0 -- Precision  0.860625 -- Recall 0.8612831942688906 -- Fscore: 0.8602931033837103\n",
            "svm_Polly -- accuracy: 0.61 -- Deviation 0.0 -- Precision  0.61 -- Recall 0.6806324645530768 -- Fscore: 0.5430535121814706\n",
            "svm_RBF -- accuracy: 0.836875 -- Deviation 0.0 -- Precision  0.836875 -- Recall 0.8445274107306971 -- Fscore: 0.8326791890241033\n",
            "svm_Sigmoid -- accuracy: 0.775 -- Deviation 0.0 -- Precision  0.775 -- Recall 0.7790720035409707 -- Fscore: 0.7738120028948207\n",
            "dt_ent -- accuracy: 0.8278125 -- Deviation 0.0 -- Precision  0.8278125 -- Recall 0.8302841071630145 -- Fscore: 0.8275379273407616\n",
            "dt_gini -- accuracy: 0.8134375 -- Deviation 0.0 -- Precision  0.8134375 -- Recall 0.8172844337412661 -- Fscore: 0.812884332772516\n",
            "rf -- accuracy: 0.8684375 -- Deviation 0.0 -- Precision  0.8684375 -- Recall 0.8698934978526546 -- Fscore: 0.8689125319442546\n",
            "Total time for single run to check models:  857.102128352\n"
          ]
        }
      ],
      "source": [
        "from numpy import mean, std\n",
        "import warnings\n",
        "warnings.filterwarnings(\"ignore\")\n",
        "# get the models to evaluate\n",
        "models = base_models()\n",
        "# evaluate the models and store results\n",
        "Single_results, Single_names = list(), list()\n",
        "Single_run = 1\n",
        "start_single = timeit.default_timer()\n",
        "for name, model in models.items():\n",
        "\tscores, mod, prec, recall,fscore, timed = evaluate_model_Multi(model,X,y,Single_run) #,X_over,y_over)#, X, y)\n",
        "\tSingle_results.append(scores)\n",
        "\tSingle_names.append(name)\n",
        "\t#filename = 'Models/'+name+'.pkl'\n",
        "\t#pickle.dump(mod, open(filename, 'wb'))\n",
        "\tprint(name,'-- accuracy:', mean(scores), '-- Deviation',std(scores),'-- Precision ', mean(prec),'-- Recall', mean(recall),'-- Fscore:', mean(fscore))\n",
        "print('Total time for single run to check models: ', timeit.default_timer() - start_single) "
      ]
    },
    {
      "cell_type": "code",
      "execution_count": 29,
      "metadata": {
        "id": "WqcXJFyjdmIM"
      },
      "outputs": [],
      "source": [
        "def get_stacking():\n",
        "\t# define the base models: level0 models\n",
        "\tlevel0 = list()\n",
        "\tlevel0.append(('lr', LogisticRegression(solver='lbfgs', max_iter=500)))\n",
        "\tlevel0.append(('Rand', RandomForestClassifier(n_estimators=130, criterion='entropy')))\n",
        "\t#level0.append(('svm', SVC(kernel='linear')))\n",
        "\t# define meta learner model: level 1\n",
        "\tlevel1 = LogisticRegression(solver='lbfgs', max_iter=500)\n",
        "\t# define the stacking ensemble\n",
        "\tmodel = StackingClassifier(estimators=level0, final_estimator=level1, cv=5)\n",
        "\treturn model"
      ]
    },
    {
      "cell_type": "code",
      "execution_count": 30,
      "metadata": {
        "id": "UnM96ZLahhGj"
      },
      "outputs": [],
      "source": [
        "def ensemble_model():\n",
        "  lr = LogisticRegression(solver='lbfgs', max_iter=500)               #Base model\n",
        "  rf = RandomForestClassifier(n_estimators=130, criterion='entropy')    #Base model\n",
        "  models = dict()\n",
        "  models['lr'] = LogisticRegression(solver='lbfgs', max_iter=500)\n",
        "  models['rf'] = RandomForestClassifier(n_estimators=130, criterion='entropy')\n",
        "  models['bagging_Lr'] = BaggingClassifier(base_estimator=lr, n_estimators=50, max_samples=0.8, max_features=0.8)\n",
        "  models['bagging_Rf'] = BaggingClassifier(base_estimator=rf, n_estimators=50, max_samples=0.8, max_features=0.8)\n",
        "  models['adaboost_lr'] = AdaBoostClassifier(base_estimator=lr, n_estimators=800)\n",
        "  #models['adaboost_RF'] = AdaBoostClassifier(base_estimator=rf, n_estimators=800)\n",
        "  models['stacking'] = get_stacking()\n",
        "  return models"
      ]
    },
    {
      "cell_type": "code",
      "execution_count": 31,
      "metadata": {
        "colab": {
          "base_uri": "https://localhost:8080/"
        },
        "id": "RDcUo9nWkSlE",
        "outputId": "7544d7c2-6c63-4e81-8ecd-17e7bf6c27fb"
      },
      "outputs": [
        {
          "name": "stdout",
          "output_type": "stream",
          "text": [
            "lr -- accuracy: 0.87125 -- Deviation 0.0 -- Precision  0.87125 -- Recall 0.8712349502909648 -- Fscore: 0.8704569731892718\n",
            "rf -- accuracy: 0.8703125 -- Deviation 0.0 -- Precision  0.8703125 -- Recall 0.8716903166135518 -- Fscore: 0.8707404767321141\n",
            "bagging_Lr -- accuracy: 0.8690625 -- Deviation 0.0 -- Precision  0.8690625 -- Recall 0.8692926326179895 -- Fscore: 0.8672374902152149\n",
            "bagging_Rf -- accuracy: 0.87 -- Deviation 0.0 -- Precision  0.87 -- Recall 0.8699671548035854 -- Fscore: 0.8699022623623782\n",
            "adaboost_lr -- accuracy: 0.7890625 -- Deviation 0.0 -- Precision  0.7890625 -- Recall 0.8070980370125586 -- Fscore: 0.7800443208843663\n",
            "stacking -- accuracy: 0.875625 -- Deviation 0.0 -- Precision  0.875625 -- Recall 0.8751517538822537 -- Fscore: 0.875156401765199\n",
            "Total time to run 100 Monte carlo runs:  1995.289818763733\n"
          ]
        }
      ],
      "source": [
        "from numpy import mean, std\n",
        "import warnings\n",
        "warnings.filterwarnings(\"ignore\")\n",
        "\n",
        "# get the models to evaluate\n",
        "models = ensemble_model()\n",
        "# evaluate the models and store results\n",
        "mul_results, mul_names = list(), list()\n",
        "number_of_runs = 100\n",
        "start_multi = time.time()\n",
        "for name, model in models.items():\n",
        "\tscores, mod, prec, recall, fscore, timed = evaluate_model_Multi(model, X, y, number_of_runs) #,X_over,y_over)#, X, y)\n",
        "\tmul_results.append(scores)\n",
        "\tmul_names.append(name)\n",
        "\tfilename = 'Models/'+name+'.pkl'\n",
        "\tpickle.dump(mod, open(filename, 'wb'))\n",
        "\tprint(name,'-- accuracy:', mean(scores), '-- Deviation',std(scores),'-- Precision ', mean(prec),'-- Recall', mean(recall),'-- Fscore:', mean(fscore))\n",
        "print('Total time to run 100 Monte carlo runs: ', time.time() - start_multi) "
      ]
    },
    {
      "cell_type": "code",
      "execution_count": 34,
      "metadata": {
        "id": "RQgrbXE1vHoQ"
      },
      "outputs": [
        {
          "data": {
            "image/png": "[encoded data removed]",
            "text/plain": [
              "<Figure size 576x432 with 1 Axes>"
            ]
          },
          "metadata": {},
          "output_type": "display_data"
        }
      ],
      "source": [
        "plt.figure(figsize=(8, 6))\n",
        "plt.plot(mul_names, mul_results)\n",
        "plt.ylabel('Accuracy'); plt.xlabel('Models'); plt.title('Accuracy for different Train Test');\n",
        "plt.show()"
      ]
    },
    {
      "cell_type": "code",
      "execution_count": 35,
      "metadata": {
        "id": "r-T4ETxSkiVF"
      },
      "outputs": [],
      "source": [
        "def evaluate_model_cross(model, X, y):\n",
        "\tcv = 4\n",
        "\tscores = cross_val_score(model, X, y, scoring='accuracy', cv=cv)\n",
        "\treturn scores"
      ]
    },
    {
      "cell_type": "code",
      "execution_count": 36,
      "metadata": {
        "id": "supraDeXku1L"
      },
      "outputs": [
        {
          "name": "stdout",
          "output_type": "stream",
          "text": [
            ">lr 0.873 (0.007)\n",
            ">rf 0.866 (0.005)\n",
            ">bagging_Lr 0.873 (0.007)\n",
            ">bagging_Rf 0.867 (0.006)\n",
            ">adaboost_lr 0.789 (0.007)\n",
            ">stacking 0.876 (0.005)\n"
          ]
        }
      ],
      "source": [
        "from numpy import mean, std\n",
        "# get the models to evaluate\n",
        "models = ensemble_model()\n",
        "# evaluate the models and store results\n",
        "cross_results, cross_names = list(), list()\n",
        "for name, model in models.items():\n",
        "\tscores = evaluate_model_cross(model, X, y)\n",
        "\tcross_results.append(scores)\n",
        "\tcross_names.append(name)\n",
        "\t#filename = 'Models/'+name+'_cv.pkl'\n",
        "\t#pickle.dump(model, open(filename, 'wb'))\n",
        "\tprint('>%s %.3f (%.3f)' % (name, mean(scores), std(scores)))"
      ]
    },
    {
      "cell_type": "code",
      "execution_count": 38,
      "metadata": {
        "id": "n4bp-iG3xbXN"
      },
      "outputs": [
        {
          "data": {
            "image/png": "[encoded data removed]",
            "text/plain": [
              "<Figure size 576x432 with 1 Axes>"
            ]
          },
          "metadata": {},
          "output_type": "display_data"
        }
      ],
      "source": [
        "plt.figure(figsize=(8, 6))\n",
        "plt.boxplot(cross_results, labels=cross_names, showmeans=True)\n",
        "plt.show()"
      ]
    },
    {
      "cell_type": "code",
      "execution_count": 40,
      "metadata": {
        "colab": {
          "background_save": true
        },
        "id": "TgNhyFaDqPm2",
        "outputId": "ddf349e1-205d-4750-dc5b-c25d0bce2bed"
      },
      "outputs": [
        {
          "name": "stdout",
          "output_type": "stream",
          "text": [
            "{0.2: 0.8745156250000001, 0.3: 0.8733333333333334, 0.4: 0.87096875, 0.5: 0.86770625, 0.6: 0.8628020833333332}\n"
          ]
        }
      ],
      "source": [
        "import numpy as np\n",
        "\n",
        "tsize = [0.2,0.3,0.4,0.5,0.6]\n",
        "tsize_acc = {}\n",
        "for i in tsize:\n",
        "    acc = []\n",
        "    for j in range(20):\n",
        "        X_train,X_test,y_train,y_test = train_test_split(X,y,test_size=i, random_state = j)\n",
        "        mod = LogisticRegression(solver='lbfgs', max_iter=500) \n",
        "        mod.fit(X_train, y_train)\n",
        "        mod_pred = mod.predict(X_test)\n",
        "        accuracy = accuracy_score(y_test,mod_pred)\n",
        "        acc.append(accuracy)\n",
        "    tsize_acc.update({i:np.mean(acc)})\n",
        "print(tsize_acc)"
      ]
    },
    {
      "cell_type": "code",
      "execution_count": 41,
      "metadata": {
        "colab": {
          "background_save": true
        },
        "id": "Ak15CTK0qrBq",
        "outputId": "60257241-08b8-4e0a-cbea-e0ae053d45e3"
      },
      "outputs": [
        {
          "data": {
            "image/png": "[encoded data removed]",
            "text/plain": [
              "<Figure size 432x288 with 1 Axes>"
            ]
          },
          "metadata": {
            "needs_background": "light"
          },
          "output_type": "display_data"
        }
      ],
      "source": [
        "import matplotlib.pyplot as plt\n",
        "%matplotlib inline\n",
        "\n",
        "plt.plot(*zip(*sorted(tsize_acc.items())))\n",
        "plt.ylabel('Accuracy'); plt.xlabel('test split'); plt.title('Accuracy for different Train Test');\n",
        "plt.show()"
      ]
    },
    {
      "cell_type": "code",
      "execution_count": 43,
      "metadata": {
        "id": "mmemhO_Mywr2"
      },
      "outputs": [],
      "source": [
        "num_est = np.arange(2,16,4)\n",
        "lr_cv_mean = []\n",
        "lr_cv_std = []\n",
        "for n_est in num_est:\n",
        "    lr = LogisticRegression(solver='lbfgs', max_iter=500) \n",
        "    scores = cross_val_score(lr, X, y, cv=n_est, scoring='accuracy')\n",
        "    lr_cv_mean.append(scores.mean())\n",
        "    lr_cv_std.append(scores.std())"
      ]
    },
    {
      "cell_type": "code",
      "execution_count": 44,
      "metadata": {
        "colab": {
          "base_uri": "https://localhost:8080/",
          "height": 306
        },
        "id": "jS6qNSTCyyq7",
        "outputId": "482349fe-12ef-4e53-d3d5-a54b44324523"
      },
      "outputs": [
        {
          "data": {
            "image/png": "[encoded data removed]",
            "text/plain": [
              "<Figure size 360x288 with 1 Axes>"
            ]
          },
          "metadata": {
            "needs_background": "light"
          },
          "output_type": "display_data"
        }
      ],
      "source": [
        "plt.figure(figsize=(5, 4))\n",
        "plt.errorbar(num_est, lr_cv_mean, yerr=lr_cv_std,c='blue', fmt='-o', capsize=5)\n",
        "plt.ylabel('Accuracy'); plt.xlabel('steps'); plt.title('Random forest Kfold cv score');\n",
        "plt.show()"
      ]
    },
    {
      "cell_type": "code",
      "execution_count": 45,
      "metadata": {
        "id": "tOHP1gyJqyAW"
      },
      "outputs": [],
      "source": [
        "num_est = np.arange(10,150,10)\n",
        "bg_clf_cv_mean = []\n",
        "bg_clf_cv_std = []\n",
        "for n_est in num_est:\n",
        "    mod = RandomForestClassifier(n_estimators = n_est, criterion='entropy')\n",
        "    mod.fit(X_train, y_train)\n",
        "    mod_pred = mod.predict(X_test)\n",
        "    accuracy = accuracy_score(y_test,mod_pred)\n",
        "    bg_clf_cv_mean.append(accuracy.mean())\n",
        "    bg_clf_cv_std.append(accuracy.std())"
      ]
    },
    {
      "cell_type": "code",
      "execution_count": 46,
      "metadata": {
        "colab": {
          "base_uri": "https://localhost:8080/",
          "height": 306
        },
        "id": "W03wXwbasW3g",
        "outputId": "43c76ad0-9a79-42b2-cdf4-38dff0026235"
      },
      "outputs": [
        {
          "data": {
            "image/png": "[encoded data removed]",
            "text/plain": [
              "<Figure size 432x288 with 1 Axes>"
            ]
          },
          "metadata": {
            "needs_background": "light"
          },
          "output_type": "display_data"
        }
      ],
      "source": [
        "plt.figure(figsize=(6, 4))\n",
        "plt.errorbar(num_est, bg_clf_cv_mean, yerr=bg_clf_cv_std,c='blue', fmt='-o', capsize=5)\n",
        "plt.ylabel('Accuracy'); plt.xlabel('steps'); plt.title('Random forest n estimators');\n",
        "plt.show()"
      ]
    },
    {
      "cell_type": "code",
      "execution_count": 47,
      "metadata": {
        "id": "WBEPXIGwsi16"
      },
      "outputs": [],
      "source": [
        "lr = LogisticRegression(solver='lbfgs', max_iter=500) \n",
        "\n",
        "num_ada_est = np.arange(100,1000,100)\n",
        "ada_clf_cv_mean = []\n",
        "ada_clf_cv_std = []\n",
        "for n_est in num_ada_est:\n",
        "    mod = AdaBoostClassifier(base_estimator=lr, n_estimators=n_est)\n",
        "    mod.fit(X_train, y_train)\n",
        "    mod_pred = mod.predict(X_test)\n",
        "    accuracy = accuracy_score(y_test,mod_pred)\n",
        "    ada_clf_cv_mean.append(accuracy.mean())\n",
        "    ada_clf_cv_std.append(accuracy.std())"
      ]
    },
    {
      "cell_type": "code",
      "execution_count": 48,
      "metadata": {
        "colab": {
          "base_uri": "https://localhost:8080/",
          "height": 415
        },
        "id": "aRa6Rp3e3Zyu",
        "outputId": "0e44b421-2be7-41ee-a5e1-5915ef39fcbc"
      },
      "outputs": [
        {
          "data": {
            "image/png": "[encoded data removed]",
            "text/plain": [
              "<Figure size 720x432 with 1 Axes>"
            ]
          },
          "metadata": {
            "needs_background": "light"
          },
          "output_type": "display_data"
        }
      ],
      "source": [
        "plt.figure(figsize=(10, 6))\n",
        "plt.errorbar(num_ada_est, ada_clf_cv_mean, yerr=ada_clf_cv_std,c='blue', fmt='-o', capsize=5)\n",
        "plt.ylabel('Accuracy'); plt.xlabel('steps'); plt.title('Ada boost N estimators');\n",
        "plt.show()"
      ]
    }
  ],
  "metadata": {
    "colab": {
      "authorship_tag": "ABX9TyN29AO59V6KcMFZn9vsy2ow",
      "include_colab_link": true,
      "name": "ML_CA_02-Part-1.ipynb",
      "provenance": []
    },
    "kernelspec": {
      "display_name": "Python 3",
      "name": "python3"
    },
    "language_info": {
      "codemirror_mode": {
        "name": "ipython",
        "version": 3
      },
      "file_extension": ".py",
      "mimetype": "text/x-python",
      "name": "python",
      "nbconvert_exporter": "python",
      "pygments_lexer": "ipython3",
      "version": "3.9.8"
    }
  },
  "nbformat": 4,
  "nbformat_minor": 0
}
