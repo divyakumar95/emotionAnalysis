{
  "cells": [
    {
      "cell_type": "markdown",
      "metadata": {
        "id": "view-in-github",
        "colab_type": "text"
      },
      "source": [
        "<a href=\"https://colab.research.google.com/github/divyakumar95/emotionAnalysis/blob/main/ML_CA_02_Part_1.ipynb\" target=\"_parent\"><img src=\"https://colab.research.google.com/assets/colab-badge.svg\" alt=\"Open In Colab\"/></a>"
      ]
    },
    {
      "cell_type": "markdown",
      "metadata": {
        "id": "pFQUH0tg2HTT"
      },
      "source": [
        "Data Sources\n",
        "\n",
        "* https://www.kaggle.com/parulpandey/emotion-dataset/download\n",
        "* https://drive.google.com/drive/u/1/folders/1oRZNWkOLESPNiW-nLZrh-wNe2G7eS9ln"
      ]
    },
    {
      "cell_type": "markdown",
      "metadata": {
        "id": "_jSWeUdW2afF"
      },
      "source": [
        "Text to Number conversion Sources\n",
        "\n",
        "* https://thecleverprogrammer.com/2021/04/17/convert-text-into-numerical-data-using-python/"
      ]
    },
    {
      "cell_type": "markdown",
      "metadata": {
        "id": "WNBmV-If26MA"
      },
      "source": [
        "Importing Data - Source code\n",
        "\n",
        "* https://colab.research.google.com/notebooks/io.ipynb"
      ]
    },
    {
      "cell_type": "code",
      "execution_count": 2,
      "metadata": {
        "colab": {
          "base_uri": "https://localhost:8080/"
        },
        "id": "KpGdd1bC251y",
        "outputId": "4232c39d-dcea-4de9-a1e7-c1f3dc60cb80"
      },
      "outputs": [
        {
          "output_type": "stream",
          "name": "stdout",
          "text": [
            "Mounted at /content/drive\n"
          ]
        }
      ],
      "source": [
        "from google.colab import drive\n",
        "drive.mount('/content/drive')"
      ]
    },
    {
      "cell_type": "markdown",
      "metadata": {
        "id": "osiHh6za3qQU"
      },
      "source": [
        "Data Files path"
      ]
    },
    {
      "cell_type": "code",
      "execution_count": 3,
      "metadata": {
        "id": "6mKSdtWD1_1d"
      },
      "outputs": [],
      "source": [
        "train_data = '/content/drive/MyDrive/Text_data/training.csv'\n",
        "test_data = '/content/drive/MyDrive/Text_data/test.csv'"
      ]
    },
    {
      "cell_type": "code",
      "execution_count": 4,
      "metadata": {
        "id": "kX3JbJVE3mad"
      },
      "outputs": [],
      "source": [
        "import numpy as np\n",
        "import pandas as pd\n",
        "import matplotlib.pyplot as plt\n",
        "import warnings\n",
        "warnings.filterwarnings(\"ignore\", category=FutureWarning)"
      ]
    },
    {
      "cell_type": "code",
      "execution_count": 5,
      "metadata": {
        "id": "5hC9dkeL35fq"
      },
      "outputs": [],
      "source": [
        "import seaborn as sns\n",
        "sns.set(style='whitegrid', palette='muted', font_scale=1.2)\n",
        "colors = [\"#01BEFE\", \"#FFDD00\", \"#FF7D00\", \"#FF006D\", \"#ADFF02\", \"#8F00FF\"]\n",
        "sns.set_palette(sns.color_palette(colors))\n",
        "plt.rcParams['figure.figsize'] = 12, 8"
      ]
    },
    {
      "cell_type": "code",
      "execution_count": 6,
      "metadata": {
        "id": "PQ1SWTz_363A"
      },
      "outputs": [],
      "source": [
        "data = pd.read_csv(train_data)"
      ]
    },
    {
      "cell_type": "code",
      "execution_count": 7,
      "metadata": {
        "colab": {
          "base_uri": "https://localhost:8080/",
          "height": 206
        },
        "id": "h2FixRIb4Ia_",
        "outputId": "1d30e8d5-5545-468c-97aa-fcbb08837713"
      },
      "outputs": [
        {
          "output_type": "execute_result",
          "data": {
            "text/html": [
              "\n",
              "  <div id=\"df-dcc4ef78-152c-4e72-a33d-d88b5e902179\">\n",
              "    <div class=\"colab-df-container\">\n",
              "      <div>\n",
              "<style scoped>\n",
              "    .dataframe tbody tr th:only-of-type {\n",
              "        vertical-align: middle;\n",
              "    }\n",
              "\n",
              "    .dataframe tbody tr th {\n",
              "        vertical-align: top;\n",
              "    }\n",
              "\n",
              "    .dataframe thead th {\n",
              "        text-align: right;\n",
              "    }\n",
              "</style>\n",
              "<table border=\"1\" class=\"dataframe\">\n",
              "  <thead>\n",
              "    <tr style=\"text-align: right;\">\n",
              "      <th></th>\n",
              "      <th>text</th>\n",
              "      <th>label</th>\n",
              "      <th>description</th>\n",
              "    </tr>\n",
              "  </thead>\n",
              "  <tbody>\n",
              "    <tr>\n",
              "      <th>0</th>\n",
              "      <td>i didnt feel humiliated</td>\n",
              "      <td>0</td>\n",
              "      <td>sadness</td>\n",
              "    </tr>\n",
              "    <tr>\n",
              "      <th>1</th>\n",
              "      <td>i can go from feeling so hopeless to so damned...</td>\n",
              "      <td>0</td>\n",
              "      <td>sadness</td>\n",
              "    </tr>\n",
              "    <tr>\n",
              "      <th>2</th>\n",
              "      <td>im grabbing a minute to post i feel greedy wrong</td>\n",
              "      <td>3</td>\n",
              "      <td>anger</td>\n",
              "    </tr>\n",
              "    <tr>\n",
              "      <th>3</th>\n",
              "      <td>i am ever feeling nostalgic about the fireplac...</td>\n",
              "      <td>2</td>\n",
              "      <td>love</td>\n",
              "    </tr>\n",
              "    <tr>\n",
              "      <th>4</th>\n",
              "      <td>i am feeling grouchy</td>\n",
              "      <td>3</td>\n",
              "      <td>anger</td>\n",
              "    </tr>\n",
              "  </tbody>\n",
              "</table>\n",
              "</div>\n",
              "      <button class=\"colab-df-convert\" onclick=\"convertToInteractive('df-dcc4ef78-152c-4e72-a33d-d88b5e902179')\"\n",
              "              title=\"Convert this dataframe to an interactive table.\"\n",
              "              style=\"display:none;\">\n",
              "        \n",
              "  <svg xmlns=\"http://www.w3.org/2000/svg\" height=\"24px\"viewBox=\"0 0 24 24\"\n",
              "       width=\"24px\">\n",
              "    <path d=\"M0 0h24v24H0V0z\" fill=\"none\"/>\n",
              "    <path d=\"M18.56 5.44l.94 2.06.94-2.06 2.06-.94-2.06-.94-.94-2.06-.94 2.06-2.06.94zm-11 1L8.5 8.5l.94-2.06 2.06-.94-2.06-.94L8.5 2.5l-.94 2.06-2.06.94zm10 10l.94 2.06.94-2.06 2.06-.94-2.06-.94-.94-2.06-.94 2.06-2.06.94z\"/><path d=\"M17.41 7.96l-1.37-1.37c-.4-.4-.92-.59-1.43-.59-.52 0-1.04.2-1.43.59L10.3 9.45l-7.72 7.72c-.78.78-.78 2.05 0 2.83L4 21.41c.39.39.9.59 1.41.59.51 0 1.02-.2 1.41-.59l7.78-7.78 2.81-2.81c.8-.78.8-2.07 0-2.86zM5.41 20L4 18.59l7.72-7.72 1.47 1.35L5.41 20z\"/>\n",
              "  </svg>\n",
              "      </button>\n",
              "      \n",
              "  <style>\n",
              "    .colab-df-container {\n",
              "      display:flex;\n",
              "      flex-wrap:wrap;\n",
              "      gap: 12px;\n",
              "    }\n",
              "\n",
              "    .colab-df-convert {\n",
              "      background-color: #E8F0FE;\n",
              "      border: none;\n",
              "      border-radius: 50%;\n",
              "      cursor: pointer;\n",
              "      display: none;\n",
              "      fill: #1967D2;\n",
              "      height: 32px;\n",
              "      padding: 0 0 0 0;\n",
              "      width: 32px;\n",
              "    }\n",
              "\n",
              "    .colab-df-convert:hover {\n",
              "      background-color: #E2EBFA;\n",
              "      box-shadow: 0px 1px 2px rgba(60, 64, 67, 0.3), 0px 1px 3px 1px rgba(60, 64, 67, 0.15);\n",
              "      fill: #174EA6;\n",
              "    }\n",
              "\n",
              "    [theme=dark] .colab-df-convert {\n",
              "      background-color: #3B4455;\n",
              "      fill: #D2E3FC;\n",
              "    }\n",
              "\n",
              "    [theme=dark] .colab-df-convert:hover {\n",
              "      background-color: #434B5C;\n",
              "      box-shadow: 0px 1px 3px 1px rgba(0, 0, 0, 0.15);\n",
              "      filter: drop-shadow(0px 1px 2px rgba(0, 0, 0, 0.3));\n",
              "      fill: #FFFFFF;\n",
              "    }\n",
              "  </style>\n",
              "\n",
              "      <script>\n",
              "        const buttonEl =\n",
              "          document.querySelector('#df-dcc4ef78-152c-4e72-a33d-d88b5e902179 button.colab-df-convert');\n",
              "        buttonEl.style.display =\n",
              "          google.colab.kernel.accessAllowed ? 'block' : 'none';\n",
              "\n",
              "        async function convertToInteractive(key) {\n",
              "          const element = document.querySelector('#df-dcc4ef78-152c-4e72-a33d-d88b5e902179');\n",
              "          const dataTable =\n",
              "            await google.colab.kernel.invokeFunction('convertToInteractive',\n",
              "                                                     [key], {});\n",
              "          if (!dataTable) return;\n",
              "\n",
              "          const docLinkHtml = 'Like what you see? Visit the ' +\n",
              "            '<a target=\"_blank\" href=https://colab.research.google.com/notebooks/data_table.ipynb>data table notebook</a>'\n",
              "            + ' to learn more about interactive tables.';\n",
              "          element.innerHTML = '';\n",
              "          dataTable['output_type'] = 'display_data';\n",
              "          await google.colab.output.renderOutput(dataTable, element);\n",
              "          const docLink = document.createElement('div');\n",
              "          docLink.innerHTML = docLinkHtml;\n",
              "          element.appendChild(docLink);\n",
              "        }\n",
              "      </script>\n",
              "    </div>\n",
              "  </div>\n",
              "  "
            ],
            "text/plain": [
              "                                                text  label description\n",
              "0                            i didnt feel humiliated      0     sadness\n",
              "1  i can go from feeling so hopeless to so damned...      0     sadness\n",
              "2   im grabbing a minute to post i feel greedy wrong      3       anger\n",
              "3  i am ever feeling nostalgic about the fireplac...      2        love\n",
              "4                               i am feeling grouchy      3       anger"
            ]
          },
          "metadata": {},
          "execution_count": 7
        }
      ],
      "source": [
        "labels_dict = {0:'sadness', 1:'joy', 2:'love', 3:'anger', 4:'fear', 5:'surprise'}\n",
        "data['description'] = data['label'].map(labels_dict )\n",
        "data.head()"
      ]
    },
    {
      "cell_type": "code",
      "execution_count": 8,
      "metadata": {
        "colab": {
          "base_uri": "https://localhost:8080/"
        },
        "id": "LVK_pLvW4Nwg",
        "outputId": "503e24fc-496c-4ed6-ad57-d08b24d80d60"
      },
      "outputs": [
        {
          "output_type": "execute_result",
          "data": {
            "text/plain": [
              "joy         0.335125\n",
              "sadness     0.291625\n",
              "anger       0.134937\n",
              "fear        0.121063\n",
              "love        0.081500\n",
              "surprise    0.035750\n",
              "Name: description, dtype: float64"
            ]
          },
          "metadata": {},
          "execution_count": 8
        }
      ],
      "source": [
        "data['description'].value_counts(normalize=True)"
      ]
    },
    {
      "cell_type": "code",
      "execution_count": 9,
      "metadata": {
        "id": "kk0pZwz84S3W"
      },
      "outputs": [],
      "source": [
        "from sklearn.feature_extraction.text import CountVectorizer\n",
        "vect = CountVectorizer(max_features=1500, min_df=5, max_df=0.7, stop_words='english')"
      ]
    },
    {
      "cell_type": "code",
      "execution_count": 10,
      "metadata": {
        "colab": {
          "base_uri": "https://localhost:8080/"
        },
        "id": "duAnmQP24nOc",
        "outputId": "6059d999-0e0c-4ad8-9609-81bd4fa5d659"
      },
      "outputs": [
        {
          "output_type": "stream",
          "name": "stdout",
          "text": [
            "['ability', 'able', 'absolutely', 'abused', 'accept', 'acceptable', 'accepted', 'accomplished', 'ache', 'aching', 'act', 'action', 'actions', 'activities', 'actual', 'actually', 'add', 'added', 'admit', 'adventure', 'adventurous', 'advice', 'afraid', 'afternoon', 'age', 'aggravated', 'agitated', 'ago', 'agree', 'ahead', 'air', 'alarmed', 'album', 'alive', 'allow', 'allowed', 'allowing', 'amazed', 'amazing', 'america', 'amp', 'amused', 'anger', 'angered', 'angry', 'annoyed', 'annoying', 'answer', 'anxiety', 'anxious', 'anybody', 'anymore', 'apart', 'apartment', 'appreciate', 'appreciated', 'appreciative', 'apprehensive', 'approach', 'area', 'areas', 'arent', 'arm', 'arms', 'art', 'artist', 'artistic', 'ashamed', 'ask', 'asked', 'asking', 'asleep', 'ass', 'assaulted', 'assured', 'ate', 'attempt', 'attention', 'attitude', 'audience', 'author', 'avoid', 'awake', 'aware', 'away', 'awesome', 'awful', 'awkward', 'babies', 'baby', 'bad', 'badly', 'bag', 'balance', 'barely', 'based', 'basically', 'beat', 'beaten', 'beautiful', 'beauty', 'bed', 'began', 'begin', 'beginning', 'believe', 'belong', 'beloved', 'best', 'betrayed', 'better', 'big', 'bike', 'birthday', 'bit', 'bitch', 'bitchy', 'bitter', 'black', 'blah', 'blamed', 'blank', 'blessed', 'blog', 'blogging', 'blogs', 'blood', 'blue', 'body', 'book', 'bookmark', 'books', 'bored', 'boring', 'bother', 'bothered', 'bought', 'bouncy', 'boy', 'boyfriend', 'boys', 'brain', 'brave', 'break', 'breath', 'breathe', 'breathing', 'bring', 'brings', 'broke', 'broken', 'brother', 'brought', 'brown', 'brush', 'build', 'building', 'bunch', 'burden', 'burdened', 'bus', 'business', 'busy', 'buy', 'buying', 'called', 'calling', 'calm', 'came', 'car', 'cards', 'care', 'career', 'carefree', 'cares', 'caring', 'case', 'casual', 'cat', 'catch', 'caught', 'cause', 'caused', 'certain', 'certainly', 'challenge', 'challenges', 'chance', 'change', 'changed', 'changes', 'character', 'characters', 'charming', 'check', 'chest', 'child', 'childhood', 'children', 'chocolate', 'choice', 'choices', 'choose', 'chosen', 'christmas', 'church', 'city', 'class', 'classes', 'clean', 'cleaning', 'clear', 'clearly', 'clever', 'close', 'clothes', 'club', 'coffee', 'cold', 'college', 'color', 'come', 'comes', 'comfort', 'comfortable', 'coming', 'comment', 'comments', 'common', 'community', 'company', 'compassionate', 'complacent', 'complaining', 'complete', 'completely', 'computer', 'concerned', 'confidence', 'confident', 'confused', 'connection', 'consider', 'considerate', 'considering', 'constant', 'constantly', 'contact', 'content', 'contented', 'continue', 'continued', 'control', 'conversation', 'conversations', 'convinced', 'cool', 'core', 'cos', 'couch', 'couldn', 'count', 'country', 'couple', 'course', 'cover', 'cranky', 'crap', 'crappy', 'craving', 'crazy', 'cream', 'create', 'created', 'creative', 'cried', 'crying', 'culture', 'cup', 'curious', 'current', 'currently', 'cut', 'cute', 'dad', 'daily', 'damaged', 'damn', 'dance', 'dangerous', 'dark', 'date', 'daughter', 'day', 'days', 'dazed', 'dead', 'deal', 'dealing', 'death', 'decide', 'decided', 'decision', 'decisions', 'deep', 'deeply', 'defeated', 'definitely', 'delicate', 'delicious', 'delighted', 'depressed', 'depression', 'deprived', 'deserve', 'design', 'desire', 'desperately', 'despite', 'determined', 'devastated', 'devoted', 'did', 'didn', 'didnt', 'die', 'died', 'diet', 'difference', 'different', 'difficult', 'dinner', 'direction', 'dirty', 'disappointed', 'discontent', 'discouraged', 'disgusted', 'disheartened', 'disillusioned', 'dismayed', 'dissatisfied', 'distance', 'distracted', 'distraught', 'distressed', 'disturbed', 'divine', 'doctor', 'does', 'doesn', 'doesnt', 'dog', 'doing', 'don', 'dont', 'doomed', 'door', 'doubt', 'doubtful', 'drained', 'dream', 'dreams', 'dress', 'drink', 'drive', 'driving', 'drop', 'dull', 'dumb', 'eager', 'earlier', 'early', 'earth', 'ease', 'easier', 'easily', 'easy', 'eat', 'eating', 'ecstatic', 'edge', 'education', 'effect', 'effects', 'effort', 'efforts', 'elegant', 'email', 'embarrassed', 'embrace', 'emo', 'emotion', 'emotional', 'emotionally', 'emotions', 'end', 'ended', 'energetic', 'energized', 'energy', 'english', 'enjoy', 'enjoyed', 'enjoying', 'entertained', 'entire', 'entirely', 'envious', 'environment', 'episode', 'equally', 'escape', 'especially', 'evening', 'event', 'events', 'eventually', 'everyday', 'exactly', 'example', 'excited', 'exercise', 'exhausted', 'expect', 'expected', 'experience', 'experienced', 'experiences', 'explain', 'express', 'extent', 'extra', 'extremely', 'eye', 'eyes', 'fab', 'fabulous', 'face', 'facebook', 'fact', 'fail', 'failure', 'fairly', 'faith', 'faithful', 'fake', 'fall', 'falling', 'families', 'family', 'fan', 'fans', 'fantastic', 'far', 'fashion', 'fast', 'fat', 'father', 'fault', 'favorite', 'fear', 'fearful', 'fearless', 'feed', 'feel', 'feeling', 'feelings', 'feels', 'feet', 'felt', 'festive', 'fight', 'figure', 'filled', 'film', 'final', 'finally', 'finding', 'fine', 'fingers', 'finish', 'finished', 'fit', 'fix', 'focus', 'focused', 'folks', 'follow', 'following', 'fond', 'food', 'foolish', 'foot', 'forever', 'forget', 'forgive', 'form', 'forward', 'frantic', 'freaking', 'free', 'freedom', 'fresh', 'friday', 'friend', 'friendly', 'friends', 'frightened', 'frustrated', 'fuck', 'fucked', 'fucking', 'fully', 'fun', 'funny', 'furious', 'future', 'gain', 'gained', 'game', 'games', 'gave', 'general', 'generally', 'generous', 'gentle', 'genuinely', 'gets', 'getting', 'gift', 'girl', 'girlfriend', 'girls', 'given', 'gives', 'giving', 'glad', 'glamorous', 'gloomy', 'goal', 'goals', 'god', 'gods', 'goes', 'going', 'gone', 'gonna', 'good', 'google', 'gorgeous', 'got', 'gotten', 'government', 'graceful', 'gracious', 'grateful', 'great', 'greedy', 'groggy', 'grouchy', 'ground', 'group', 'grow', 'growing', 'grown', 'grumpy', 'guess', 'guilt', 'guilty', 'guy', 'guys', 'gym', 'hadnt', 'haha', 'hair', 'half', 'hand', 'handle', 'hands', 'hang', 'happen', 'happened', 'happening', 'happens', 'happiness', 'happy', 'hard', 'harder', 'hardly', 'hate', 'hated', 'hateful', 'haven', 'havent', 'having', 'head', 'headache', 'headed', 'health', 'healthy', 'hear', 'heard', 'hearing', 'heart', 'heartbroken', 'heartless', 'hearts', 'heat', 'heavy', 'held', 'hell', 'help', 'helped', 'helping', 'helpless', 'helps', 'hes', 'hesitant', 'hey', 'hide', 'high', 'highly', 'history', 'hit', 'hold', 'holding', 'holiday', 'holidays', 'home', 'homesick', 'honest', 'honestly', 'honored', 'honoured', 'hope', 'hoped', 'hopeful', 'hopefully', 'hopeless', 'hoping', 'horny', 'horrible', 'horribly', 'hostile', 'hot', 'hour', 'hours', 'house', 'href', 'http', 'huge', 'human', 'humiliated', 'hungry', 'hurt', 'hurts', 'husband', 'ice', 'id', 'idea', 'ideas', 'idiot', 'idiotic', 'ignored', 'ill', 'im', 'image', 'images', 'imagine', 'img', 'immediately', 'impatient', 'important', 'impressed', 'inadequate', 'incredibly', 'indecisive', 'information', 'inhibited', 'innocent', 'insecure', 'inside', 'inspired', 'instantly', 'instead', 'insulted', 'intelligent', 'interested', 'interesting', 'internet', 'intimidated', 'invigorated', 'involved', 'irritable', 'irritated', 'isn', 'isnt', 'isolated', 'issue', 'issues', 'ive', 'jaded', 'jealous', 'jesus', 'job', 'jolly', 'journey', 'joy', 'joyful', 'just', 'keen', 'keeping', 'keeps', 'kept', 'key', 'kick', 'kid', 'kids', 'kind', 'kinda', 'kiss', 'kitchen', 'knew', 'know', 'knowing', 'knowledge', 'known', 'knows', 'lack', 'lady', 'lame', 'language', 'large', 'late', 'lately', 'later', 'laugh', 'laughing', 'law', 'lazy', 'lead', 'learn', 'learned', 'learning', 'leave', 'leaves', 'leaving', 'left', 'leg', 'legs', 'lesson', 'lessons', 'let', 'lethargic', 'lets', 'letter', 'letting', 'level', 'lie', 'life', 'lifestyle', 'light', 'like', 'liked', 'likely', 'line', 'link', 'lips', 'list', 'listen', 'listening', 'listless', 'little', 'live', 'lived', 'lively', 'lives', 'living', 'll', 'local', 'lol', 'london', 'loneliness', 'lonely', 'long', 'longer', 'longing', 'look', 'looked', 'looking', 'looks', 'lord', 'lose', 'losing', 'loss', 'lost', 'lot', 'lots', 'lousy', 'love', 'loved', 'lovely', 'loving', 'low', 'loyal', 'lucky', 'mad', 'main', 'make', 'makes', 'making', 'man', 'manage', 'managed', 'mark', 'married', 'matter', 'maybe', 'mean', 'meaning', 'means', 'meant', 'media', 'medicine', 'meet', 'meeting', 'melancholy', 'mellow', 'members', 'memories', 'memory', 'men', 'mental', 'mentally', 'mention', 'mentioned', 'mess', 'message', 'messy', 'met', 'middle', 'miles', 'mind', 'minute', 'minutes', 'miserable', 'miss', 'missed', 'missing', 'mom', 'moment', 'moments', 'monday', 'money', 'month', 'months', 'mood', 'morning', 'mother', 'mothers', 'motivated', 'mouth', 'moved', 'movie', 'movies', 'moving', 'mum', 'muscles', 'music', 'natural', 'nature', 'naughty', 'near', 'nearly', 'neck', 'need', 'needed', 'needing', 'needs', 'needy', 'negative', 'neglectful', 'nervous', 'neurotic', 'new', 'news', 'nice', 'night', 'non', 'normal', 'normally', 'north', 'nostalgic', 'note', 'notice', 'noticed', 'novel', 'numb', 'number', 'obnoxious', 'obviously', 'odd', 'offended', 'offer', 'office', 'oh', 'ok', 'okay', 'old', 'older', 'ones', 'online', 'open', 'opportunity', 'optimistic', 'order', 'outfit', 'outraged', 'outside', 'overall', 'overly', 'overwhelmed', 'pace', 'pain', 'pair', 'paper', 'paranoid', 'parent', 'parents', 'particular', 'particularly', 'partly', 'partner', 'parts', 'party', 'pass', 'passed', 'passing', 'passionate', 'past', 'path', 'pathetic', 'pay', 'peace', 'peaceful', 'people', 'perfect', 'perfectly', 'period', 'person', 'personal', 'personality', 'personally', 'perspective', 'petty', 'phone', 'photo', 'photos', 'physical', 'physically', 'pick', 'picture', 'pictures', 'piece', 'pieces', 'pissed', 'place', 'places', 'plan', 'planning', 'play', 'playful', 'playing', 'pleasant', 'pleased', 'plus', 'point', 'points', 'poor', 'pop', 'popular', 'position', 'positive', 'possible', 'possibly', 'post', 'posted', 'posting', 'posts', 'potential', 'power', 'practice', 'pray', 'precious', 'prefer', 'pregnancy', 'pregnant', 'presence', 'present', 'pressure', 'pressured', 'pretend', 'pretty', 'price', 'pride', 'privileged', 'probably', 'problem', 'problems', 'process', 'product', 'productive', 'products', 'professional', 'program', 'progress', 'project', 'projects', 'properly', 'proud', 'provide', 'public', 'pull', 'pulled', 'punished', 'purpose', 'push', 'putting', 'quality', 'question', 'questions', 'quickly', 'quiet', 'quite', 'race', 'rain', 'ran', 'reach', 'reaction', 'read', 'reader', 'readers', 'reading', 'ready', 'real', 'realise', 'reality', 'realize', 'realized', 'really', 'reason', 'reasons', 'reassured', 'rebellious', 'received', 'recently', 'recommend', 'red', 'regret', 'regretful', 'rejected', 'rel', 'relationship', 'relationships', 'relaxed', 'relieved', 'reluctant', 'remain', 'remember', 'remind', 'remorseful', 'repressed', 'resentful', 'resigned', 'resolved', 'respect', 'respected', 'response', 'rest', 'restless', 'result', 'results', 'return', 'review', 'rich', 'ride', 'right', 'road', 'rock', 'romantic', 'room', 'rotten', 'routine', 'rude', 'run', 'running', 'rushed', 'sad', 'sadness', 'safe', 'safety', 'said', 'sake', 'sarcastic', 'sat', 'satisfied', 'saturday', 'save', 'saw', 'say', 'saying', 'says', 'scared', 'scene', 'school', 'search', 'season', 'second', 'seeing', 'seen', 'self', 'selfish', 'sense', 'sensitive', 'sentimental', 'series', 'seriously', 'service', 'set', 'settle', 'sex', 'sexual', 'sexy', 'shake', 'shaken', 'shaky', 'shall', 'shamed', 'share', 'shared', 'sharing', 'shes', 'shit', 'shitty', 'shocked', 'shoes', 'shop', 'shopping', 'short', 'shouldn', 'shouldnt', 'showing', 'shut', 'shy', 'sick', 'silly', 'similar', 'simple', 'simply', 'sing', 'single', 'sister', 'sit', 'site', 'sitting', 'situation', 'situations', 'size', 'skeptical', 'skills', 'skin', 'sky', 'sleep', 'sleeping', 'slightly', 'slow', 'slowly', 'small', 'smart', 'smell', 'smile', 'smug', 'sociable', 'social', 'socially', 'society', 'soft', 'solution', 'somebody', 'somewhat', 'son', 'song', 'songs', 'soon', 'sore', 'sorry', 'sort', 'soul', 'sound', 'sounds', 'space', 'speak', 'speaking', 'special', 'spend', 'spending', 'spent', 'spirit', 'spot', 'src', 'stage', 'stand', 'standing', 'start', 'started', 'starting', 'starts', 'state', 'statement', 'stay', 'staying', 'step', 'stomach', 'stood', 'stop', 'stopped', 'stories', 'story', 'straight', 'strange', 'street', 'strength', 'stress', 'stressed', 'strong', 'strongly', 'struggle', 'struggled', 'struggling', 'stubborn', 'stuck', 'student', 'students', 'study', 'studying', 'stuff', 'stunned', 'stupid', 'style', 'subject', 'submissive', 'success', 'successful', 'suddenly', 'suffer', 'suffering', 'summer', 'sun', 'sunday', 'super', 'superior', 'support', 'supporting', 'supportive', 'suppose', 'supposed', 'sure', 'surprised', 'suspicious', 'swear', 'sweet', 'sympathetic', 'sympathy', 'table', 'tad', 'taken', 'takes', 'taking', 'talented', 'talk', 'talked', 'talking', 'target', 'taste', 'tea', 'teacher', 'team', 'tears', 'teenager', 'tell', 'telling', 'tells', 'tend', 'tender', 'terms', 'terrible', 'terribly', 'terrific', 'terrified', 'test', 'text', 'th', 'thank', 'thankful', 'thanks', 'thanksgiving', 'thats', 'theres', 'theyre', 'thing', 'things', 'think', 'thinking', 'thought', 'thoughts', 'threatened', 'thrilled', 'throw', 'till', 'time', 'times', 'timid', 'tiny', 'tired', 'title', 'today', 'told', 'tomorrow', 'tonight', 'took', 'topic', 'tortured', 'total', 'totally', 'touch', 'touched', 'tough', 'town', 'tragic', 'train', 'training', 'treasured', 'treat', 'treated', 'treatment', 'tree', 'trees', 'tried', 'trip', 'triumphant', 'troubled', 'true', 'truly', 'trust', 'trusting', 'truth', 'truthful', 'try', 'trying', 'turn', 'turned', 'turning', 'tv', 'type', 'typing', 'ugly', 'unable', 'uncertain', 'uncomfortable', 'understand', 'understanding', 'unfortunate', 'ungrateful', 'unhappy', 'unimportant', 'universe', 'unless', 'unloved', 'unpleasant', 'unsure', 'unwelcome', 'unworthy', 'upset', 'uptight', 'use', 'used', 'useful', 'useless', 'using', 'usual', 'usually', 'utterly', 'vacation', 'vain', 'valuable', 'valued', 'values', 've', 'version', 'victim', 'victimized', 'video', 'view', 'views', 'violent', 'virtuous', 'vision', 'visit', 'vital', 'voice', 'vulnerable', 'wait', 'waiting', 'wake', 'waking', 'walk', 'walked', 'walking', 'wall', 'wanna', 'want', 'wanted', 'wanting', 'wants', 'warm', 'wasn', 'wasnt', 'wasted', 'watch', 'watched', 'watching', 'water', 'way', 'ways', 'weak', 'wear', 'wearing', 'weather', 'wedding', 'week', 'weekend', 'weeks', 'weepy', 'weight', 'weird', 'welcomed', 'went', 'weve', 'whats', 'white', 'wife', 'willing', 'wimpy', 'win', 'wind', 'window', 'winter', 'wish', 'woke', 'woman', 'women', 'won', 'wonder', 'wonderful', 'wondering', 'wont', 'word', 'words', 'work', 'worked', 'working', 'workout', 'works', 'world', 'worried', 'worry', 'worse', 'worst', 'worth', 'worthless', 'worthwhile', 'wouldn', 'wouldnt', 'write', 'writer', 'writing', 'written', 'wrong', 'wronged', 'wrote', 'www', 'yeah', 'year', 'years', 'yes', 'yesterday', 'yoga', 'young', 'youre']\n"
          ]
        }
      ],
      "source": [
        "new_vect = vect.fit_transform(data['text'].values)\n",
        "print(vect.get_feature_names())"
      ]
    },
    {
      "cell_type": "code",
      "execution_count": 19,
      "metadata": {
        "id": "RMjJhMtuWDrI"
      },
      "outputs": [],
      "source": [
        "#X_Data=pd.DataFrame(new_vect.toarray(), columns=vect.get_feature_names())"
      ]
    },
    {
      "cell_type": "code",
      "execution_count": 11,
      "metadata": {
        "id": "Nj02k3Lt49_J"
      },
      "outputs": [],
      "source": [
        "X = new_vect.toarray()\n",
        "y = data['label']"
      ]
    },
    {
      "cell_type": "code",
      "execution_count": 12,
      "metadata": {
        "colab": {
          "base_uri": "https://localhost:8080/"
        },
        "id": "MwnE5NWXBgH0",
        "outputId": "55314da7-12bd-4b10-ec8e-b4f6460384f6"
      },
      "outputs": [
        {
          "output_type": "stream",
          "name": "stdout",
          "text": [
            "X Shape (16000, 1500)\n",
            "Y Shape (16000,)\n"
          ]
        }
      ],
      "source": [
        "print(\"X Shape\",X.shape)\n",
        "print(\"Y Shape\",y.shape)"
      ]
    },
    {
      "cell_type": "code",
      "execution_count": 13,
      "metadata": {
        "colab": {
          "base_uri": "https://localhost:8080/"
        },
        "id": "O3nufzsGTbdh",
        "outputId": "7d4712e3-e100-4844-ad76-7c19201b9e03"
      },
      "outputs": [
        {
          "output_type": "execute_result",
          "data": {
            "text/plain": [
              "Counter({0: 4666, 1: 5362, 2: 1304, 3: 2159, 4: 1937, 5: 572})"
            ]
          },
          "metadata": {},
          "execution_count": 13
        }
      ],
      "source": [
        "from collections import Counter\n",
        "Counter(y)"
      ]
    },
    {
      "cell_type": "code",
      "execution_count": null,
      "metadata": {
        "colab": {
          "base_uri": "https://localhost:8080/"
        },
        "id": "IleS1js2XXyv",
        "outputId": "e5c3d3a2-6db0-4278-a28c-7b5f95c75c0b"
      },
      "outputs": [
        {
          "name": "stdout",
          "output_type": "stream",
          "text": [
            "Counter({0: 5362, 3: 5362, 2: 5362, 5: 5362, 4: 5362, 1: 5362})\n"
          ]
        }
      ],
      "source": [
        "from imblearn.over_sampling import RandomOverSampler, SMOTE\n",
        "from imblearn.under_sampling import RandomUnderSampler\n",
        "\n",
        "sample = RandomOverSampler(sampling_strategy='minority')\n",
        "#sample = RandomUnderSampler(replacement=True)\n",
        " \n",
        "# fit and apply the transform\n",
        "X_over, y_over = SMOTE().fit_resample(X, y)\n",
        "\n",
        "print(Counter(y_over))"
      ]
    },
    {
      "cell_type": "code",
      "execution_count": 14,
      "metadata": {
        "id": "5iwjofnOXb5k"
      },
      "outputs": [],
      "source": [
        "from sklearn.metrics import accuracy_score,confusion_matrix, classification_report\n",
        "from sklearn.tree import DecisionTreeClassifier # decision tee algorithm for classification\n",
        "from sklearn.naive_bayes import CategoricalNB, GaussianNB\n",
        "from sklearn.model_selection import train_test_split, cross_val_score\n",
        "from sklearn.ensemble import RandomForestClassifier, StackingClassifier, BaggingClassifier, AdaBoostClassifier\n",
        "from sklearn.linear_model import LogisticRegression\n",
        "from sklearn.svm import SVR,SVC\n",
        "from sklearn.metrics import accuracy_score, precision_score, recall_score, f1_score, plot_roc_curve\n",
        "import pickle"
      ]
    },
    {
      "cell_type": "markdown",
      "metadata": {
        "id": "pindhxPmcVDb"
      },
      "source": [
        "https://scikit-learn.org/stable/modules/linear_model.html#logistic-regression"
      ]
    },
    {
      "cell_type": "code",
      "execution_count": 15,
      "metadata": {
        "id": "Z0ipHzr2cA60"
      },
      "outputs": [],
      "source": [
        "def base_models():\n",
        "  models = dict()\n",
        "  models['lr'] = LogisticRegression(solver='lbfgs', max_iter=500)\n",
        "  models['svm_Linear'] = SVC(kernel='linear')\n",
        "  models['svm_Polly'] = SVC(kernel='poly')\n",
        "  models['svm_RBF'] = SVC(kernel='rbf')\n",
        "  models['svm_Sigmoid'] = SVC(kernel='sigmoid')\n",
        "  models['dt_ent'] = DecisionTreeClassifier(criterion='entropy')\n",
        "  models['dt_gini'] = DecisionTreeClassifier(criterion='gini')\n",
        "  models['rf'] = RandomForestClassifier(n_estimators=130, criterion='entropy')\n",
        "  return models"
      ]
    },
    {
      "cell_type": "code",
      "source": [
        ""
      ],
      "metadata": {
        "id": "_pWmuv1yM0YO"
      },
      "execution_count": null,
      "outputs": []
    },
    {
      "cell_type": "markdown",
      "metadata": {
        "id": "QcnkJpU6lG_D"
      },
      "source": [
        "Monte carlo runs"
      ]
    },
    {
      "cell_type": "code",
      "execution_count": 21,
      "metadata": {
        "id": "y6UpTGvFcpFw"
      },
      "outputs": [],
      "source": [
        "def evaluate_model_Multi(model, X, y, mc):\n",
        "  acc = [] ### Blank vector\n",
        "  f = []\n",
        "  prec = []\n",
        "  rec = []\n",
        "  for i in range(mc):\n",
        "    X_train,X_test,y_train,y_test=train_test_split(X,y,test_size=0.2, random_state=i)# split dataset\n",
        "    dt = model.fit(X_train,y_train) # fit the model\n",
        "    YPred = dt.predict(X_test) # predict\n",
        "    a = accuracy_score(y_test,YPred) # compute accuracy\n",
        "    acc.append(a) # append accuracy\n",
        "    f1 = f1_score(y_test, YPred, average='weighted')\n",
        "    precision = precision_score(y_test, YPred, average='weighted')\n",
        "    recall = recall_score(y_test, YPred, average='weighted')\n",
        "    f.append(f1)\n",
        "    prec.append(precision)\n",
        "    rec.append(recall)\n",
        "    return np.mean(acc), dt, np.mean(recall), np.mean(prec),np.mean(f)"
      ]
    },
    {
      "cell_type": "code",
      "execution_count": 22,
      "metadata": {
        "colab": {
          "base_uri": "https://localhost:8080/"
        },
        "id": "2bv1TS2xXyn7",
        "outputId": "2ac7253b-1e3d-46db-8bdb-9df527af2d9e"
      },
      "outputs": [
        {
          "output_type": "stream",
          "name": "stdout",
          "text": [
            "lr -- accuracy: 0.87125 -- Deviation 0.0 -- Precision  0.87125 -- Recall 0.8712349502909648 -- Fscore: 0.8704569731892718\n",
            "svm_Linear -- accuracy: 0.860625 -- Deviation 0.0 -- Precision  0.860625 -- Recall 0.8612831942688906 -- Fscore: 0.8602931033837103\n",
            "svm_Polly -- accuracy: 0.61 -- Deviation 0.0 -- Precision  0.61 -- Recall 0.6806324645530768 -- Fscore: 0.5430535121814706\n",
            "svm_RBF -- accuracy: 0.836875 -- Deviation 0.0 -- Precision  0.836875 -- Recall 0.8445274107306971 -- Fscore: 0.8326791890241033\n",
            "svm_Sigmoid -- accuracy: 0.7759375 -- Deviation 0.0 -- Precision  0.7759375 -- Recall 0.7802356783921556 -- Fscore: 0.7747948114037758\n",
            "dt_ent -- accuracy: 0.826875 -- Deviation 0.0 -- Precision  0.826875 -- Recall 0.8297091816406453 -- Fscore: 0.8264775372905797\n",
            "dt_gini -- accuracy: 0.81625 -- Deviation 0.0 -- Precision  0.81625 -- Recall 0.8191812203347892 -- Fscore: 0.815791419185243\n",
            "rf -- accuracy: 0.87125 -- Deviation 0.0 -- Precision  0.87125 -- Recall 0.8723517841721399 -- Fscore: 0.8715770506060475\n"
          ]
        }
      ],
      "source": [
        "from numpy import mean, std\n",
        "import warnings\n",
        "warnings.filterwarnings(\"ignore\")\n",
        "# get the models to evaluate\n",
        "models = base_models()\n",
        "# evaluate the models and store results\n",
        "results, names = list(), list()\n",
        "for name, model in models.items():\n",
        "\tscores, mod, prec, recall,fscore = evaluate_model_Multi(model,X,y,1) #,X_over,y_over)#, X, y)\n",
        "\tresults.append(scores)\n",
        "\tnames.append(name)\n",
        "\t#filename = 'Models/'+name+'.pkl'\n",
        "\t#pickle.dump(mod, open(filename, 'wb'))\n",
        "\tprint(name,'-- accuracy:', mean(scores), '-- Deviation',std(scores),'-- Precision ', mean(prec),'-- Recall', mean(recall),'-- Fscore:', mean(fscore))"
      ]
    },
    {
      "cell_type": "code",
      "execution_count": 23,
      "metadata": {
        "id": "WqcXJFyjdmIM"
      },
      "outputs": [],
      "source": [
        "def get_stacking():\n",
        "\t# define the base models: level0 models\n",
        "\tlevel0 = list()\n",
        "\tlevel0.append(('lr', LogisticRegression(solver='lbfgs', max_iter=500)))\n",
        "\tlevel0.append(('Rand', RandomForestClassifier(n_estimators=130, criterion='entropy')))\n",
        "\tlevel0.append(('svm', SVC(kernel='linear')))\n",
        "\t# define meta learner model: level 1\n",
        "\tlevel1 = LogisticRegression(solver='lbfgs', max_iter=500)\n",
        "\t# define the stacking ensemble\n",
        "\tmodel = StackingClassifier(estimators=level0, final_estimator=level1, cv=5)\n",
        "\treturn model"
      ]
    },
    {
      "cell_type": "code",
      "execution_count": 24,
      "metadata": {
        "id": "UnM96ZLahhGj"
      },
      "outputs": [],
      "source": [
        "def ensemble_model():\n",
        "  lr = LogisticRegression(solver='lbfgs', max_iter=500)               #Base model\n",
        "  rf = RandomForestClassifier(n_estimators=130, criterion='entropy')    #Base model\n",
        "  models = dict()\n",
        "  models['lr'] = LogisticRegression(solver='lbfgs', max_iter=500)\n",
        "  models['rf'] = RandomForestClassifier(n_estimators=130, criterion='entropy')\n",
        "  models['bagging_Lr'] = BaggingClassifier(base_estimator=lr, n_estimators=50, max_samples=0.8, max_features=0.8)\n",
        "  models['bagging_Rf'] = BaggingClassifier(base_estimator=rf, n_estimators=50, max_samples=0.8, max_features=0.8)\n",
        "  models['adaboost_lr'] = AdaBoostClassifier(base_estimator=lr, n_estimators=800)\n",
        "  models['adaboost_RF'] = AdaBoostClassifier(base_estimator=rf, n_estimators=800)\n",
        "  models['stacking'] = get_stacking()\n",
        "  return models"
      ]
    },
    {
      "cell_type": "code",
      "execution_count": null,
      "metadata": {
        "colab": {
          "base_uri": "https://localhost:8080/"
        },
        "id": "RDcUo9nWkSlE",
        "outputId": "7544d7c2-6c63-4e81-8ecd-17e7bf6c27fb"
      },
      "outputs": [
        {
          "metadata": {
            "tags": null
          },
          "name": "stdout",
          "output_type": "stream",
          "text": [
            "lr -- accuracy: 0.87125 -- Deviation 0.0 -- Precision  0.87125 -- Recall 0.8712349502909648 -- Fscore: 0.8704569731892718\n",
            "rf -- accuracy: 0.8703125 -- Deviation 0.0 -- Precision  0.8703125 -- Recall 0.8714319077036461 -- Fscore: 0.870677715381359\n",
            "bagging_Lr -- accuracy: 0.8703125 -- Deviation 0.0 -- Precision  0.8703125 -- Recall 0.8709976595833365 -- Fscore: 0.868433641406103\n",
            "bagging_Rf -- accuracy: 0.8675 -- Deviation 0.0 -- Precision  0.8675 -- Recall 0.8682841474478038 -- Fscore: 0.8677201738013869\n",
            "adaboost_lr -- accuracy: 0.7890625 -- Deviation 0.0 -- Precision  0.7890625 -- Recall 0.8070980370125586 -- Fscore: 0.7800443208843663\n"
          ]
        }
      ],
      "source": [
        "from numpy import mean, std\n",
        "import warnings\n",
        "warnings.filterwarnings(\"ignore\")\n",
        "# get the models to evaluate\n",
        "models = ensemble_model()\n",
        "# evaluate the models and store results\n",
        "mul_results, mul_names = list(), list()\n",
        "for name, model in models.items():\n",
        "\tscores, mod, prec, recall,fscore = evaluate_model_Multi(model,X,y,100) #,X_over,y_over)#, X, y)\n",
        "\tmul_results.append(scores)\n",
        "\tmul_names.append(name)\n",
        "\t#filename = 'Models/'+name+'.pkl'\n",
        "\t#pickle.dump(mod, open(filename, 'wb'))\n",
        "\tprint(name,'-- accuracy:', mean(scores), '-- Deviation',std(scores),'-- Precision ', mean(prec),'-- Recall', mean(recall),'-- Fscore:', mean(fscore))"
      ]
    },
    {
      "cell_type": "code",
      "execution_count": null,
      "metadata": {
        "id": "H3dKI2E3tODD"
      },
      "outputs": [],
      "source": [
        "print(mul_names)"
      ]
    },
    {
      "cell_type": "code",
      "execution_count": null,
      "metadata": {
        "id": "RQgrbXE1vHoQ"
      },
      "outputs": [],
      "source": [
        "plt.plot(mul_names, mul_results)\n",
        "plt.ylabel('Accuracy'); plt.xlabel('Models'); plt.title('Accuracy for different Train Test');\n",
        "plt.show()"
      ]
    },
    {
      "cell_type": "code",
      "execution_count": null,
      "metadata": {
        "id": "r-T4ETxSkiVF"
      },
      "outputs": [],
      "source": [
        "def evaluate_model_cross(model, X, y):\n",
        "\tcv = 4\n",
        "\tscores = cross_val_score(model, X, y, scoring='accuracy', cv=cv)\n",
        "\treturn scores"
      ]
    },
    {
      "cell_type": "code",
      "execution_count": null,
      "metadata": {
        "id": "supraDeXku1L"
      },
      "outputs": [],
      "source": [
        "from numpy import mean, std\n",
        "# get the models to evaluate\n",
        "models = ensemble_model()\n",
        "# evaluate the models and store results\n",
        "cross_results, cross_names = list(), list()\n",
        "for name, model in models.items():\n",
        "\tscores = evaluate_model_cross(model, X, y)\n",
        "\tresults.append(scores)\n",
        "\tnames.append(name)\n",
        "\t#filename = 'Models/'+name+'_cv.pkl'\n",
        "\t#pickle.dump(model, open(filename, 'wb'))\n",
        "\tprint('>%s %.3f (%.3f)' % (name, mean(scores), std(scores)))"
      ]
    },
    {
      "cell_type": "code",
      "execution_count": null,
      "metadata": {
        "id": "n4bp-iG3xbXN"
      },
      "outputs": [],
      "source": [
        "plt.boxplot(cross_results, labels=cross_names, showmeans=True)\n",
        "plt.show()"
      ]
    },
    {
      "cell_type": "code",
      "execution_count": null,
      "metadata": {
        "colab": {
          "background_save": true
        },
        "id": "TgNhyFaDqPm2",
        "outputId": "ddf349e1-205d-4750-dc5b-c25d0bce2bed"
      },
      "outputs": [
        {
          "name": "stdout",
          "output_type": "stream",
          "text": [
            "{0.2: 0.8745312500000001, 0.3: 0.8733437500000001, 0.4: 0.8709999999999999, 0.5: 0.8677125, 0.6: 0.8628072916666666}\n"
          ]
        }
      ],
      "source": [
        "import numpy as np\n",
        "\n",
        "tsize = [0.2,0.3,0.4,0.5,0.6]\n",
        "tsize_acc = {}\n",
        "for i in tsize:\n",
        "    acc = []\n",
        "    for j in range(20):\n",
        "        X_train,X_test,y_train,y_test = train_test_split(X,y,test_size=i, random_state = j)\n",
        "        mod = LogisticRegression(solver='lbfgs', max_iter=500) \n",
        "        mod.fit(X_train, y_train)\n",
        "        mod_pred = mod.predict(X_test)\n",
        "        accuracy = accuracy_score(y_test,mod_pred)\n",
        "        acc.append(accuracy)\n",
        "    tsize_acc.update({i:np.mean(acc)})\n",
        "print(tsize_acc)"
      ]
    },
    {
      "cell_type": "code",
      "execution_count": null,
      "metadata": {
        "colab": {
          "background_save": true
        },
        "id": "Ak15CTK0qrBq",
        "outputId": "60257241-08b8-4e0a-cbea-e0ae053d45e3"
      },
      "outputs": [
        {
          "data": {
            "image/png": "[encoded data removed]",
            "text/plain": [
              "<Figure size 432x288 with 1 Axes>"
            ]
          },
          "metadata": {},
          "output_type": "display_data"
        }
      ],
      "source": [
        "import matplotlib.pyplot as plt\n",
        "%matplotlib inline\n",
        "\n",
        "plt.plot(*zip(*sorted(tsize_acc.items())))\n",
        "plt.ylabel('Accuracy'); plt.xlabel('test split'); plt.title('Accuracy for different Train Test');\n",
        "plt.show()"
      ]
    },
    {
      "cell_type": "code",
      "execution_count": null,
      "metadata": {
        "id": "mmemhO_Mywr2"
      },
      "outputs": [],
      "source": [
        "num_est = np.arange(2,10,2)\n",
        "lr_cv_mean = []\n",
        "lr_cv_std = []\n",
        "for n_est in num_est:\n",
        "    lr = LogisticRegression(solver='lbfgs', max_iter=500) \n",
        "    scores = cross_val_score(lr, X_over, y_over, cv=n_est, scoring='accuracy')\n",
        "    lr_cv_mean.append(scores.mean())\n",
        "    lr_cv_std.append(scores.std())"
      ]
    },
    {
      "cell_type": "code",
      "execution_count": null,
      "metadata": {
        "colab": {
          "base_uri": "https://localhost:8080/",
          "height": 306
        },
        "id": "jS6qNSTCyyq7",
        "outputId": "482349fe-12ef-4e53-d3d5-a54b44324523"
      },
      "outputs": [
        {
          "data": {
            "image/png": "[encoded data removed]",
            "text/plain": [
              "<Figure size 360x288 with 1 Axes>"
            ]
          },
          "metadata": {},
          "output_type": "display_data"
        }
      ],
      "source": [
        "plt.figure(figsize=(5, 4))\n",
        "plt.errorbar(num_est, lr_cv_mean, yerr=lr_cv_std,c='blue', fmt='-o', capsize=5)\n",
        "plt.ylabel('Accuracy'); plt.xlabel('steps'); plt.title('Random forest Kfold cv score');\n",
        "plt.show()"
      ]
    },
    {
      "cell_type": "code",
      "execution_count": null,
      "metadata": {
        "id": "tOHP1gyJqyAW"
      },
      "outputs": [],
      "source": [
        "num_est = np.arange(10,150,10)\n",
        "bg_clf_cv_mean = []\n",
        "bg_clf_cv_std = []\n",
        "for n_est in num_est:\n",
        "    mod = RandomForestClassifier(n_estimators = n_est, criterion='entropy')\n",
        "    mod.fit(X_train, y_train)\n",
        "    mod_pred = mod.predict(X_test)\n",
        "    accuracy = accuracy_score(y_test,mod_pred)\n",
        "    bg_clf_cv_mean.append(accuracy.mean())\n",
        "    bg_clf_cv_std.append(accuracy.std())"
      ]
    },
    {
      "cell_type": "code",
      "execution_count": null,
      "metadata": {
        "colab": {
          "base_uri": "https://localhost:8080/",
          "height": 306
        },
        "id": "W03wXwbasW3g",
        "outputId": "43c76ad0-9a79-42b2-cdf4-38dff0026235"
      },
      "outputs": [
        {
          "data": {
            "image/png": "[encoded data removed]",
            "text/plain": [
              "<Figure size 432x288 with 1 Axes>"
            ]
          },
          "metadata": {},
          "output_type": "display_data"
        }
      ],
      "source": [
        "plt.figure(figsize=(6, 4))\n",
        "plt.errorbar(num_est, bg_clf_cv_mean, yerr=bg_clf_cv_std,c='blue', fmt='-o', capsize=5)\n",
        "plt.ylabel('Accuracy'); plt.xlabel('steps'); plt.title('Random forest n estimators');\n",
        "plt.show()"
      ]
    },
    {
      "cell_type": "code",
      "execution_count": null,
      "metadata": {
        "id": "WBEPXIGwsi16"
      },
      "outputs": [],
      "source": [
        "lr = LogisticRegression(solver='lbfgs', max_iter=500) \n",
        "\n",
        "num_ada_est = np.arange(100,1000,100)\n",
        "ada_clf_cv_mean = []\n",
        "ada_clf_cv_std = []\n",
        "for n_est in num_ada_est:\n",
        "    mod = AdaBoostClassifier(base_estimator=lr, n_estimators=n_est)\n",
        "    mod.fit(X_train, y_train)\n",
        "    mod_pred = mod.predict(X_test)\n",
        "    accuracy = accuracy_score(y_test,mod_pred)\n",
        "    ada_clf_cv_mean.append(accuracy.mean())\n",
        "    ada_clf_cv_std.append(accuracy.std())"
      ]
    },
    {
      "cell_type": "code",
      "execution_count": null,
      "metadata": {
        "colab": {
          "base_uri": "https://localhost:8080/",
          "height": 415
        },
        "id": "aRa6Rp3e3Zyu",
        "outputId": "0e44b421-2be7-41ee-a5e1-5915ef39fcbc"
      },
      "outputs": [
        {
          "data": {
            "image/png": "[encoded data removed]",
            "text/plain": [
              "<Figure size 720x432 with 1 Axes>"
            ]
          },
          "metadata": {},
          "output_type": "display_data"
        }
      ],
      "source": [
        "plt.figure(figsize=(10, 6))\n",
        "plt.errorbar(num_ada_est, ada_clf_cv_mean, yerr=ada_clf_cv_std,c='blue', fmt='-o', capsize=5)\n",
        "plt.ylabel('Accuracy'); plt.xlabel('steps'); plt.title('Ada boost N estimators');\n",
        "plt.show()"
      ]
    },
    {
      "cell_type": "markdown",
      "metadata": {
        "id": "H63Htolql5VZ"
      },
      "source": [
        ""
      ]
    },
    {
      "cell_type": "markdown",
      "metadata": {
        "id": "DvYilqtVl5Ru"
      },
      "source": [
        ""
      ]
    }
  ],
  "metadata": {
    "colab": {
      "name": "ML_CA_02-Part-1.ipynb",
      "provenance": [],
      "authorship_tag": "ABX9TyN29AO59V6KcMFZn9vsy2ow",
      "include_colab_link": true
    },
    "kernelspec": {
      "display_name": "Python 3",
      "name": "python3"
    },
    "language_info": {
      "name": "python"
    }
  },
  "nbformat": 4,
  "nbformat_minor": 0
}