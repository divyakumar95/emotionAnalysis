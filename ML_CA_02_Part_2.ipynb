{
  "nbformat": 4,
  "nbformat_minor": 0,
  "metadata": {
    "colab": {
      "name": "ML_CA_02-Part-2.ipynb",
      "provenance": [],
      "collapsed_sections": [],
      "include_colab_link": true
    },
    "kernelspec": {
      "name": "python3",
      "display_name": "Python 3"
    },
    "language_info": {
      "name": "python"
    }
  },
  "cells": [
    {
      "cell_type": "markdown",
      "metadata": {
        "id": "view-in-github",
        "colab_type": "text"
      },
      "source": [
        "<a href=\"https://colab.research.google.com/github/divyakumar95/emotionAnalysis/blob/main/ML_CA_02_Part_2.ipynb\" target=\"_parent\"><img src=\"https://colab.research.google.com/assets/colab-badge.svg\" alt=\"Open In Colab\"/></a>"
      ]
    },
    {
      "cell_type": "markdown",
      "source": [
        "##Machine learning CA 02\n",
        "\n",
        "###Question 02\n",
        "\n",
        "Consider a continuous attribute in your dataset as the target variable, perform regression analysis using different ensemble methods, visualize and interpret the results"
      ],
      "metadata": {
        "id": "kEtACNPhOe2c"
      }
    },
    {
      "cell_type": "markdown",
      "source": [
        "##Problem statement:\n",
        "\n",
        "###Property price prediction in Ireland"
      ],
      "metadata": {
        "id": "jQ4JQl_3PwwS"
      }
    },
    {
      "cell_type": "markdown",
      "source": [
        "##Dataset insights"
      ],
      "metadata": {
        "id": "uRQwv0AjQtmz"
      }
    },
    {
      "cell_type": "markdown",
      "source": [
        "###DataSources\n",
        "* https://propertypriceregister.ie/\n",
        "* https://www.kaggle.com/erinkhoo/property-price-register-ireland/download"
      ],
      "metadata": {
        "id": "KGUBB_cZjQrO"
      }
    },
    {
      "cell_type": "markdown",
      "source": [
        "##Programming"
      ],
      "metadata": {
        "id": "QfC90uJ2g8iQ"
      }
    },
    {
      "cell_type": "markdown",
      "source": [
        "##Data Preprocessing"
      ],
      "metadata": {
        "id": "xzHPkfwxvoOo"
      }
    },
    {
      "cell_type": "markdown",
      "source": [
        "Mount drive to colab to use dataset"
      ],
      "metadata": {
        "id": "6SG_LaYVd_Ef"
      }
    },
    {
      "cell_type": "code",
      "execution_count": null,
      "metadata": {
        "colab": {
          "base_uri": "https://localhost:8080/"
        },
        "id": "y7MD7g0wiwQT",
        "outputId": "b5707576-40a8-4d67-d8e3-884000b5d87e"
      },
      "outputs": [
        {
          "output_type": "stream",
          "name": "stdout",
          "text": [
            "Drive already mounted at /content/drive; to attempt to forcibly remount, call drive.mount(\"/content/drive\", force_remount=True).\n"
          ]
        }
      ],
      "source": [
        "from google.colab import drive\n",
        "drive.mount('/content/drive')"
      ]
    },
    {
      "cell_type": "markdown",
      "source": [
        "###Dataset path\n",
        "\n",
        "https://drive.google.com/file/d/1HQPdg4dmmeZz3OFR7d_NoZQc-B_x8zC0/view?usp=sharing"
      ],
      "metadata": {
        "id": "QbBsoDKveJWS"
      }
    },
    {
      "cell_type": "code",
      "source": [
        "import pandas as pd\n",
        "dataset = '/content/drive/MyDrive/ML_Assignment_data/Property_Price_Register_Ireland-28-05-2021.csv'\n",
        "data = pd.read_csv(dataset)\n",
        "data['SALE_DATE'] = pd.to_datetime(data.SALE_DATE, format='%Y-%m-%d')\n",
        "data.tail()"
      ],
      "metadata": {
        "colab": {
          "base_uri": "https://localhost:8080/",
          "height": 337
        },
        "id": "VEbR3E3xzio0",
        "outputId": "11f7d44f-0acf-49f0-f002-b52abe0c3064"
      },
      "execution_count": null,
      "outputs": [
        {
          "output_type": "execute_result",
          "data": {
            "text/html": [
              "\n",
              "  <div id=\"df-30289269-c874-4f80-84e8-e1537df80847\">\n",
              "    <div class=\"colab-df-container\">\n",
              "      <div>\n",
              "<style scoped>\n",
              "    .dataframe tbody tr th:only-of-type {\n",
              "        vertical-align: middle;\n",
              "    }\n",
              "\n",
              "    .dataframe tbody tr th {\n",
              "        vertical-align: top;\n",
              "    }\n",
              "\n",
              "    .dataframe thead th {\n",
              "        text-align: right;\n",
              "    }\n",
              "</style>\n",
              "<table border=\"1\" class=\"dataframe\">\n",
              "  <thead>\n",
              "    <tr style=\"text-align: right;\">\n",
              "      <th></th>\n",
              "      <th>SALE_DATE</th>\n",
              "      <th>ADDRESS</th>\n",
              "      <th>POSTAL_CODE</th>\n",
              "      <th>COUNTY</th>\n",
              "      <th>SALE_PRICE</th>\n",
              "      <th>IF_MARKET_PRICE</th>\n",
              "      <th>IF_VAT_EXCLUDED</th>\n",
              "      <th>PROPERTY_DESC</th>\n",
              "      <th>PROPERTY_SIZE_DESC</th>\n",
              "    </tr>\n",
              "  </thead>\n",
              "  <tbody>\n",
              "    <tr>\n",
              "      <th>476740</th>\n",
              "      <td>2021-05-28</td>\n",
              "      <td>GRANGE STORES, GRANGE, MULLINGAR</td>\n",
              "      <td>NaN</td>\n",
              "      <td>Westmeath</td>\n",
              "      <td>150000.0</td>\n",
              "      <td>0</td>\n",
              "      <td>0</td>\n",
              "      <td>Second-Hand Dwelling house /Apartment</td>\n",
              "      <td>NaN</td>\n",
              "    </tr>\n",
              "    <tr>\n",
              "      <th>476741</th>\n",
              "      <td>2021-05-28</td>\n",
              "      <td>MAIN STREET, LOWER BORRIS, BORRIS</td>\n",
              "      <td>NaN</td>\n",
              "      <td>Carlow</td>\n",
              "      <td>170000.0</td>\n",
              "      <td>1</td>\n",
              "      <td>0</td>\n",
              "      <td>Second-Hand Dwelling house /Apartment</td>\n",
              "      <td>NaN</td>\n",
              "    </tr>\n",
              "    <tr>\n",
              "      <th>476742</th>\n",
              "      <td>2021-05-28</td>\n",
              "      <td>MULTYFARNHAM, WESTMEATH</td>\n",
              "      <td>NaN</td>\n",
              "      <td>Westmeath</td>\n",
              "      <td>175000.0</td>\n",
              "      <td>0</td>\n",
              "      <td>0</td>\n",
              "      <td>Second-Hand Dwelling house /Apartment</td>\n",
              "      <td>NaN</td>\n",
              "    </tr>\n",
              "    <tr>\n",
              "      <th>476743</th>\n",
              "      <td>2021-05-28</td>\n",
              "      <td>NO 2 RIVERLODGE, SHRONE, GLENGARIFF</td>\n",
              "      <td>NaN</td>\n",
              "      <td>Cork</td>\n",
              "      <td>240000.0</td>\n",
              "      <td>0</td>\n",
              "      <td>0</td>\n",
              "      <td>Second-Hand Dwelling house /Apartment</td>\n",
              "      <td>NaN</td>\n",
              "    </tr>\n",
              "    <tr>\n",
              "      <th>476744</th>\n",
              "      <td>2021-05-28</td>\n",
              "      <td>RABANE, KILL, COOTEHILL</td>\n",
              "      <td>NaN</td>\n",
              "      <td>Cavan</td>\n",
              "      <td>47000.0</td>\n",
              "      <td>0</td>\n",
              "      <td>0</td>\n",
              "      <td>Second-Hand Dwelling house /Apartment</td>\n",
              "      <td>NaN</td>\n",
              "    </tr>\n",
              "  </tbody>\n",
              "</table>\n",
              "</div>\n",
              "      <button class=\"colab-df-convert\" onclick=\"convertToInteractive('df-30289269-c874-4f80-84e8-e1537df80847')\"\n",
              "              title=\"Convert this dataframe to an interactive table.\"\n",
              "              style=\"display:none;\">\n",
              "        \n",
              "  <svg xmlns=\"http://www.w3.org/2000/svg\" height=\"24px\"viewBox=\"0 0 24 24\"\n",
              "       width=\"24px\">\n",
              "    <path d=\"M0 0h24v24H0V0z\" fill=\"none\"/>\n",
              "    <path d=\"M18.56 5.44l.94 2.06.94-2.06 2.06-.94-2.06-.94-.94-2.06-.94 2.06-2.06.94zm-11 1L8.5 8.5l.94-2.06 2.06-.94-2.06-.94L8.5 2.5l-.94 2.06-2.06.94zm10 10l.94 2.06.94-2.06 2.06-.94-2.06-.94-.94-2.06-.94 2.06-2.06.94z\"/><path d=\"M17.41 7.96l-1.37-1.37c-.4-.4-.92-.59-1.43-.59-.52 0-1.04.2-1.43.59L10.3 9.45l-7.72 7.72c-.78.78-.78 2.05 0 2.83L4 21.41c.39.39.9.59 1.41.59.51 0 1.02-.2 1.41-.59l7.78-7.78 2.81-2.81c.8-.78.8-2.07 0-2.86zM5.41 20L4 18.59l7.72-7.72 1.47 1.35L5.41 20z\"/>\n",
              "  </svg>\n",
              "      </button>\n",
              "      \n",
              "  <style>\n",
              "    .colab-df-container {\n",
              "      display:flex;\n",
              "      flex-wrap:wrap;\n",
              "      gap: 12px;\n",
              "    }\n",
              "\n",
              "    .colab-df-convert {\n",
              "      background-color: #E8F0FE;\n",
              "      border: none;\n",
              "      border-radius: 50%;\n",
              "      cursor: pointer;\n",
              "      display: none;\n",
              "      fill: #1967D2;\n",
              "      height: 32px;\n",
              "      padding: 0 0 0 0;\n",
              "      width: 32px;\n",
              "    }\n",
              "\n",
              "    .colab-df-convert:hover {\n",
              "      background-color: #E2EBFA;\n",
              "      box-shadow: 0px 1px 2px rgba(60, 64, 67, 0.3), 0px 1px 3px 1px rgba(60, 64, 67, 0.15);\n",
              "      fill: #174EA6;\n",
              "    }\n",
              "\n",
              "    [theme=dark] .colab-df-convert {\n",
              "      background-color: #3B4455;\n",
              "      fill: #D2E3FC;\n",
              "    }\n",
              "\n",
              "    [theme=dark] .colab-df-convert:hover {\n",
              "      background-color: #434B5C;\n",
              "      box-shadow: 0px 1px 3px 1px rgba(0, 0, 0, 0.15);\n",
              "      filter: drop-shadow(0px 1px 2px rgba(0, 0, 0, 0.3));\n",
              "      fill: #FFFFFF;\n",
              "    }\n",
              "  </style>\n",
              "\n",
              "      <script>\n",
              "        const buttonEl =\n",
              "          document.querySelector('#df-30289269-c874-4f80-84e8-e1537df80847 button.colab-df-convert');\n",
              "        buttonEl.style.display =\n",
              "          google.colab.kernel.accessAllowed ? 'block' : 'none';\n",
              "\n",
              "        async function convertToInteractive(key) {\n",
              "          const element = document.querySelector('#df-30289269-c874-4f80-84e8-e1537df80847');\n",
              "          const dataTable =\n",
              "            await google.colab.kernel.invokeFunction('convertToInteractive',\n",
              "                                                     [key], {});\n",
              "          if (!dataTable) return;\n",
              "\n",
              "          const docLinkHtml = 'Like what you see? Visit the ' +\n",
              "            '<a target=\"_blank\" href=https://colab.research.google.com/notebooks/data_table.ipynb>data table notebook</a>'\n",
              "            + ' to learn more about interactive tables.';\n",
              "          element.innerHTML = '';\n",
              "          dataTable['output_type'] = 'display_data';\n",
              "          await google.colab.output.renderOutput(dataTable, element);\n",
              "          const docLink = document.createElement('div');\n",
              "          docLink.innerHTML = docLinkHtml;\n",
              "          element.appendChild(docLink);\n",
              "        }\n",
              "      </script>\n",
              "    </div>\n",
              "  </div>\n",
              "  "
            ],
            "text/plain": [
              "        SALE_DATE  ... PROPERTY_SIZE_DESC\n",
              "476740 2021-05-28  ...                NaN\n",
              "476741 2021-05-28  ...                NaN\n",
              "476742 2021-05-28  ...                NaN\n",
              "476743 2021-05-28  ...                NaN\n",
              "476744 2021-05-28  ...                NaN\n",
              "\n",
              "[5 rows x 9 columns]"
            ]
          },
          "metadata": {},
          "execution_count": 5
        }
      ]
    },
    {
      "cell_type": "markdown",
      "source": [
        "##Data Preparation"
      ],
      "metadata": {
        "id": "oHUgucT1v1cs"
      }
    },
    {
      "cell_type": "markdown",
      "source": [
        "###Drop Nan"
      ],
      "metadata": {
        "id": "EQavQEz8eiDo"
      }
    },
    {
      "cell_type": "code",
      "source": [
        "df = data.dropna(axis=0)\n",
        "df.head()"
      ],
      "metadata": {
        "colab": {
          "base_uri": "https://localhost:8080/",
          "height": 354
        },
        "id": "rjCQs9Ud9x2n",
        "outputId": "51a67247-1f47-45fe-e506-e406219269e7"
      },
      "execution_count": null,
      "outputs": [
        {
          "output_type": "execute_result",
          "data": {
            "text/html": [
              "\n",
              "  <div id=\"df-8331e902-9b53-4002-bbff-4eccc66421b3\">\n",
              "    <div class=\"colab-df-container\">\n",
              "      <div>\n",
              "<style scoped>\n",
              "    .dataframe tbody tr th:only-of-type {\n",
              "        vertical-align: middle;\n",
              "    }\n",
              "\n",
              "    .dataframe tbody tr th {\n",
              "        vertical-align: top;\n",
              "    }\n",
              "\n",
              "    .dataframe thead th {\n",
              "        text-align: right;\n",
              "    }\n",
              "</style>\n",
              "<table border=\"1\" class=\"dataframe\">\n",
              "  <thead>\n",
              "    <tr style=\"text-align: right;\">\n",
              "      <th></th>\n",
              "      <th>SALE_DATE</th>\n",
              "      <th>ADDRESS</th>\n",
              "      <th>POSTAL_CODE</th>\n",
              "      <th>COUNTY</th>\n",
              "      <th>SALE_PRICE</th>\n",
              "      <th>IF_MARKET_PRICE</th>\n",
              "      <th>IF_VAT_EXCLUDED</th>\n",
              "      <th>PROPERTY_DESC</th>\n",
              "      <th>PROPERTY_SIZE_DESC</th>\n",
              "    </tr>\n",
              "  </thead>\n",
              "  <tbody>\n",
              "    <tr>\n",
              "      <th>47</th>\n",
              "      <td>2010-01-05</td>\n",
              "      <td>134 longboat quay north, sir john rogersons quay</td>\n",
              "      <td>Dublin 2</td>\n",
              "      <td>Dublin</td>\n",
              "      <td>225000.00</td>\n",
              "      <td>0</td>\n",
              "      <td>1</td>\n",
              "      <td>New Dwelling house /Apartment</td>\n",
              "      <td>less than 38 sq metres</td>\n",
              "    </tr>\n",
              "    <tr>\n",
              "      <th>56</th>\n",
              "      <td>2010-01-05</td>\n",
              "      <td>3 Myrtle Square, The Coast, Baldoyle</td>\n",
              "      <td>Dublin 13</td>\n",
              "      <td>Dublin</td>\n",
              "      <td>265198.00</td>\n",
              "      <td>0</td>\n",
              "      <td>1</td>\n",
              "      <td>New Dwelling house /Apartment</td>\n",
              "      <td>greater than or equal to 38 sq metres and less...</td>\n",
              "    </tr>\n",
              "    <tr>\n",
              "      <th>170</th>\n",
              "      <td>2010-01-08</td>\n",
              "      <td>4 Streamville Close, Donaghmeade, Dublin 13</td>\n",
              "      <td>Dublin 13</td>\n",
              "      <td>Dublin</td>\n",
              "      <td>221000.00</td>\n",
              "      <td>1</td>\n",
              "      <td>1</td>\n",
              "      <td>New Dwelling house /Apartment</td>\n",
              "      <td>greater than or equal to 38 sq metres and less...</td>\n",
              "    </tr>\n",
              "    <tr>\n",
              "      <th>192</th>\n",
              "      <td>2010-01-08</td>\n",
              "      <td>APT 8  1 GRANGE LODGE AVENUE, CLONGRIFFIN</td>\n",
              "      <td>Dublin 13</td>\n",
              "      <td>Dublin</td>\n",
              "      <td>177685.95</td>\n",
              "      <td>0</td>\n",
              "      <td>1</td>\n",
              "      <td>New Dwelling house /Apartment</td>\n",
              "      <td>greater than or equal to 38 sq metres and less...</td>\n",
              "    </tr>\n",
              "    <tr>\n",
              "      <th>337</th>\n",
              "      <td>2010-01-14</td>\n",
              "      <td>2 Belarmine Hall, Newtownlittle  Stepaside, Du...</td>\n",
              "      <td>Dublin 18</td>\n",
              "      <td>Dublin</td>\n",
              "      <td>214097.00</td>\n",
              "      <td>0</td>\n",
              "      <td>1</td>\n",
              "      <td>New Dwelling house /Apartment</td>\n",
              "      <td>less than 38 sq metres</td>\n",
              "    </tr>\n",
              "  </tbody>\n",
              "</table>\n",
              "</div>\n",
              "      <button class=\"colab-df-convert\" onclick=\"convertToInteractive('df-8331e902-9b53-4002-bbff-4eccc66421b3')\"\n",
              "              title=\"Convert this dataframe to an interactive table.\"\n",
              "              style=\"display:none;\">\n",
              "        \n",
              "  <svg xmlns=\"http://www.w3.org/2000/svg\" height=\"24px\"viewBox=\"0 0 24 24\"\n",
              "       width=\"24px\">\n",
              "    <path d=\"M0 0h24v24H0V0z\" fill=\"none\"/>\n",
              "    <path d=\"M18.56 5.44l.94 2.06.94-2.06 2.06-.94-2.06-.94-.94-2.06-.94 2.06-2.06.94zm-11 1L8.5 8.5l.94-2.06 2.06-.94-2.06-.94L8.5 2.5l-.94 2.06-2.06.94zm10 10l.94 2.06.94-2.06 2.06-.94-2.06-.94-.94-2.06-.94 2.06-2.06.94z\"/><path d=\"M17.41 7.96l-1.37-1.37c-.4-.4-.92-.59-1.43-.59-.52 0-1.04.2-1.43.59L10.3 9.45l-7.72 7.72c-.78.78-.78 2.05 0 2.83L4 21.41c.39.39.9.59 1.41.59.51 0 1.02-.2 1.41-.59l7.78-7.78 2.81-2.81c.8-.78.8-2.07 0-2.86zM5.41 20L4 18.59l7.72-7.72 1.47 1.35L5.41 20z\"/>\n",
              "  </svg>\n",
              "      </button>\n",
              "      \n",
              "  <style>\n",
              "    .colab-df-container {\n",
              "      display:flex;\n",
              "      flex-wrap:wrap;\n",
              "      gap: 12px;\n",
              "    }\n",
              "\n",
              "    .colab-df-convert {\n",
              "      background-color: #E8F0FE;\n",
              "      border: none;\n",
              "      border-radius: 50%;\n",
              "      cursor: pointer;\n",
              "      display: none;\n",
              "      fill: #1967D2;\n",
              "      height: 32px;\n",
              "      padding: 0 0 0 0;\n",
              "      width: 32px;\n",
              "    }\n",
              "\n",
              "    .colab-df-convert:hover {\n",
              "      background-color: #E2EBFA;\n",
              "      box-shadow: 0px 1px 2px rgba(60, 64, 67, 0.3), 0px 1px 3px 1px rgba(60, 64, 67, 0.15);\n",
              "      fill: #174EA6;\n",
              "    }\n",
              "\n",
              "    [theme=dark] .colab-df-convert {\n",
              "      background-color: #3B4455;\n",
              "      fill: #D2E3FC;\n",
              "    }\n",
              "\n",
              "    [theme=dark] .colab-df-convert:hover {\n",
              "      background-color: #434B5C;\n",
              "      box-shadow: 0px 1px 3px 1px rgba(0, 0, 0, 0.15);\n",
              "      filter: drop-shadow(0px 1px 2px rgba(0, 0, 0, 0.3));\n",
              "      fill: #FFFFFF;\n",
              "    }\n",
              "  </style>\n",
              "\n",
              "      <script>\n",
              "        const buttonEl =\n",
              "          document.querySelector('#df-8331e902-9b53-4002-bbff-4eccc66421b3 button.colab-df-convert');\n",
              "        buttonEl.style.display =\n",
              "          google.colab.kernel.accessAllowed ? 'block' : 'none';\n",
              "\n",
              "        async function convertToInteractive(key) {\n",
              "          const element = document.querySelector('#df-8331e902-9b53-4002-bbff-4eccc66421b3');\n",
              "          const dataTable =\n",
              "            await google.colab.kernel.invokeFunction('convertToInteractive',\n",
              "                                                     [key], {});\n",
              "          if (!dataTable) return;\n",
              "\n",
              "          const docLinkHtml = 'Like what you see? Visit the ' +\n",
              "            '<a target=\"_blank\" href=https://colab.research.google.com/notebooks/data_table.ipynb>data table notebook</a>'\n",
              "            + ' to learn more about interactive tables.';\n",
              "          element.innerHTML = '';\n",
              "          dataTable['output_type'] = 'display_data';\n",
              "          await google.colab.output.renderOutput(dataTable, element);\n",
              "          const docLink = document.createElement('div');\n",
              "          docLink.innerHTML = docLinkHtml;\n",
              "          element.appendChild(docLink);\n",
              "        }\n",
              "      </script>\n",
              "    </div>\n",
              "  </div>\n",
              "  "
            ],
            "text/plain": [
              "     SALE_DATE  ...                                 PROPERTY_SIZE_DESC\n",
              "47  2010-01-05  ...                             less than 38 sq metres\n",
              "56  2010-01-05  ...  greater than or equal to 38 sq metres and less...\n",
              "170 2010-01-08  ...  greater than or equal to 38 sq metres and less...\n",
              "192 2010-01-08  ...  greater than or equal to 38 sq metres and less...\n",
              "337 2010-01-14  ...                             less than 38 sq metres\n",
              "\n",
              "[5 rows x 9 columns]"
            ]
          },
          "metadata": {},
          "execution_count": 6
        }
      ]
    },
    {
      "cell_type": "markdown",
      "source": [
        "###Encode text data to numerical data"
      ],
      "metadata": {
        "id": "zEOOH0oEelW2"
      }
    },
    {
      "cell_type": "code",
      "source": [
        "from sklearn.preprocessing import LabelEncoder\n",
        "import warnings\n",
        "warnings.filterwarnings(\"ignore\", category=FutureWarning)\n",
        "\n",
        "labelencoder = LabelEncoder()\n",
        "\n",
        "df['PROPERTY_DESC'] = labelencoder.fit_transform(df['PROPERTY_DESC'])\n",
        "df['COUNTY'] = labelencoder.fit_transform(df['COUNTY'])\n",
        "df['POSTAL_CODE'] = labelencoder.fit_transform(df['POSTAL_CODE'])"
      ],
      "metadata": {
        "id": "daIucT5RBVYz"
      },
      "execution_count": null,
      "outputs": []
    },
    {
      "cell_type": "markdown",
      "source": [
        "###Input and Output"
      ],
      "metadata": {
        "id": "vrNk7uT0jdDs"
      }
    },
    {
      "cell_type": "markdown",
      "source": [
        "Assign the data to both X and y\n",
        "\n",
        "* X - Input Features\n",
        "* y - Continuous target variable"
      ],
      "metadata": {
        "id": "yiRPsZLUe0qI"
      }
    },
    {
      "cell_type": "code",
      "source": [
        "df_features = ['IF_MARKET_PRICE','IF_VAT_EXCLUDED','PROPERTY_DESC','COUNTY','POSTAL_CODE']\n",
        "X = df[df_features]\n",
        "y = df.SALE_PRICE"
      ],
      "metadata": {
        "id": "GFhD-edw-GjF"
      },
      "execution_count": null,
      "outputs": []
    },
    {
      "cell_type": "code",
      "source": [
        "X.info()"
      ],
      "metadata": {
        "colab": {
          "base_uri": "https://localhost:8080/"
        },
        "id": "3e3Gw2Dl_HNO",
        "outputId": "db6aa73f-72aa-4bfd-d24c-19f4459cf8f0"
      },
      "execution_count": null,
      "outputs": [
        {
          "output_type": "stream",
          "name": "stdout",
          "text": [
            "<class 'pandas.core.frame.DataFrame'>\n",
            "Int64Index: 7952 entries, 47 to 427094\n",
            "Data columns (total 5 columns):\n",
            " #   Column           Non-Null Count  Dtype\n",
            "---  ------           --------------  -----\n",
            " 0   IF_MARKET_PRICE  7952 non-null   int64\n",
            " 1   IF_VAT_EXCLUDED  7952 non-null   int64\n",
            " 2   PROPERTY_DESC    7952 non-null   int64\n",
            " 3   COUNTY           7952 non-null   int64\n",
            " 4   POSTAL_CODE      7952 non-null   int64\n",
            "dtypes: int64(5)\n",
            "memory usage: 372.8 KB\n"
          ]
        }
      ]
    },
    {
      "cell_type": "code",
      "source": [
        "print('X:',len(X),'y: ',len(y))"
      ],
      "metadata": {
        "id": "xPVPfr3i_NEj",
        "colab": {
          "base_uri": "https://localhost:8080/"
        },
        "outputId": "d11dd8df-8494-49bc-8dae-54302ca860fe"
      },
      "execution_count": null,
      "outputs": [
        {
          "output_type": "stream",
          "name": "stdout",
          "text": [
            "X: 7952 y:  7952\n"
          ]
        }
      ]
    },
    {
      "cell_type": "markdown",
      "source": [
        "##Modeling"
      ],
      "metadata": {
        "id": "H08wJ09Ov9Wz"
      }
    },
    {
      "cell_type": "markdown",
      "source": [
        "###Imports"
      ],
      "metadata": {
        "id": "qIo20NatjlDA"
      }
    },
    {
      "cell_type": "markdown",
      "source": [
        "Import the required Machine learning libraries\n",
        "* Regression models"
      ],
      "metadata": {
        "id": "uCjW6pesfM8W"
      }
    },
    {
      "cell_type": "code",
      "source": [
        "from sklearn.linear_model import LinearRegression\n",
        "from sklearn.svm import SVR     # 4 kernel - ‘linear’, ‘poly’, ‘rbf’, ‘sigmoid’, ‘precomputed’\n",
        "from sklearn.tree import DecisionTreeRegressor #criterion - “squared_error”, “friedman_mse”, “absolute_error”, “poisson”\n",
        "from sklearn.ensemble import RandomForestRegressor\n",
        "from sklearn.model_selection import train_test_split\n",
        "from sklearn.metrics import mean_squared_error,mean_absolute_error\n",
        "from sklearn.ensemble import StackingRegressor,BaggingRegressor,AdaBoostRegressor\n",
        "import numpy as np\n",
        "from math import sqrt\n",
        "import matplotlib.pyplot as plt"
      ],
      "metadata": {
        "id": "LAtqlhc_DBB4"
      },
      "execution_count": null,
      "outputs": []
    },
    {
      "cell_type": "markdown",
      "source": [
        "###Define base model"
      ],
      "metadata": {
        "id": "74Bx976Nfc8n"
      }
    },
    {
      "cell_type": "code",
      "source": [
        "def base_models():\n",
        "  models = dict()\n",
        "  models['LR'] = LinearRegression()\n",
        "  models['svc_Linear'] = SVR(kernel='linear')\n",
        "  models['svc_Polly'] = SVR(kernel='poly')\n",
        "  models['svc_RBF'] = SVR(kernel='rbf')\n",
        "  models['svc_Sigmoid'] = SVR(kernel='sigmoid')\n",
        "  models['dt_SQError'] = DecisionTreeRegressor(criterion='squared_error')\n",
        "  models['dt_AbsError'] = DecisionTreeRegressor(criterion='absolute_error')\n",
        "  models['dt_Posson'] = DecisionTreeRegressor(criterion='poisson')\n",
        "  models['rf_SQError'] = RandomForestRegressor(n_estimators = 10, criterion='squared_error')\n",
        "  models['rf_AbsError'] = RandomForestRegressor(n_estimators = 10, criterion='absolute_error')\n",
        "  models['rf_Posson'] = RandomForestRegressor(n_estimators = 10, criterion='poisson')\n",
        "  return models"
      ],
      "metadata": {
        "id": "4iQYd1jhIGot"
      },
      "execution_count": null,
      "outputs": []
    },
    {
      "cell_type": "markdown",
      "source": [
        "###Define Model Evaluation"
      ],
      "metadata": {
        "id": "iL5EPiNxfjet"
      }
    },
    {
      "cell_type": "code",
      "source": [
        "from sklearn.pipeline import make_pipeline\n",
        "from sklearn.preprocessing import StandardScaler\n",
        "import time\n",
        "\n",
        "def evaluate_model_Multi(model, X, y, mc):\n",
        "  RMSE = []\n",
        "  MSE = []\n",
        "  ABSErr = []\n",
        "  single = time.time()\n",
        "  for i in range(mc):\n",
        "    X_train,X_test,y_train,y_test=train_test_split(X,y,test_size=0.4, random_state=i)# split dataset\n",
        "    #dt = make_pipeline(StandardScaler(),model)   #pipeline to reduce computation time\n",
        "    dt = model.fit(X_train,y_train)               # fit the model\n",
        "    YPred = dt.predict(X_test)                    # predict\n",
        "    mse = mean_squared_error(y_test,YPred)\n",
        "    abs = mean_absolute_error(y_test, YPred)\n",
        "    rmse = sqrt(mse)\n",
        "    MSE.append(mse)\n",
        "    ABSErr.append(abs)\n",
        "    RMSE.append(rmse)\n",
        "    timed = time.time() - single\n",
        "  return np.mean(ABSErr), np.mean(MSE), np.mean(RMSE)"
      ],
      "metadata": {
        "id": "HChKc3PIDjlx"
      },
      "execution_count": null,
      "outputs": []
    },
    {
      "cell_type": "markdown",
      "source": [
        "###Train Model and get the RMSE Values of each Model "
      ],
      "metadata": {
        "id": "vbxJRdv1ftTQ"
      }
    },
    {
      "cell_type": "code",
      "source": [
        "from numpy import mean, std\n",
        "import warnings\n",
        "warnings.filterwarnings(\"ignore\")\n",
        "# get the models to evaluate\n",
        "models = base_models()\n",
        "# evaluate the models and store results\n",
        "Single_results, Single_names = list(), list()\n",
        "Single_run = 1\n",
        "start_single = time.time()\n",
        "for name, model in models.items():\n",
        "\tAbsErr, Mse, Rmse = evaluate_model_Multi(model,X,y,Single_run) #,X_over,y_over)#, X, y)\n",
        "\tSingle_results.append(Rmse)\n",
        "\tSingle_names.append(name)\n",
        "\t#filename = 'Models/'+name+'.pkl'\n",
        "\t#pickle.dump(mod, open(filename, 'wb'))\n",
        "\tprint(name,'- ABS Error:', mean(AbsErr), '- Mean sq Error:',mean(Mse),'- Root Mean Sq Error:', mean(Rmse))\n",
        "print('------> Total time for single run to check models: ', time.time() - start_single) "
      ],
      "metadata": {
        "colab": {
          "base_uri": "https://localhost:8080/"
        },
        "id": "AHOltcUaR3CB",
        "outputId": "5b328f10-279b-4b17-fabe-f417e9f87635"
      },
      "execution_count": null,
      "outputs": [
        {
          "output_type": "stream",
          "name": "stdout",
          "text": [
            "LR - ABS Error: 219485.62502314526 - Mean sq Error: 1249066753030.0725 - Root Mean Sq Error: 1117616.5500877628\n",
            "svc_Linear - ABS Error: 185321.8789625904 - Mean sq Error: 1227014564054.7473 - Root Mean Sq Error: 1107706.8944692668\n",
            "svc_Polly - ABS Error: 186024.0790604573 - Mean sq Error: 1227506700050.2812 - Root Mean Sq Error: 1107929.0139942546\n",
            "svc_RBF - ABS Error: 186181.81264892372 - Mean sq Error: 1227896219443.3464 - Root Mean Sq Error: 1108104.787212539\n",
            "svc_Sigmoid - ABS Error: 186189.28719454838 - Mean sq Error: 1227903964086.9233 - Root Mean Sq Error: 1108108.2817517985\n",
            "dt_SQError - ABS Error: 208251.118092283 - Mean sq Error: 1372673337414.26 - Root Mean Sq Error: 1171611.4276560552\n",
            "dt_AbsError - ABS Error: 159929.5625620874 - Mean sq Error: 1220425285855.5925 - Root Mean Sq Error: 1104728.6028050475\n",
            "dt_Posson - ABS Error: 208251.118092283 - Mean sq Error: 1372673337414.26 - Root Mean Sq Error: 1171611.4276560552\n",
            "rf_SQError - ABS Error: 195077.9290385168 - Mean sq Error: 1357063209182.6062 - Root Mean Sq Error: 1164930.5598114447\n",
            "rf_AbsError - ABS Error: 158411.4664306822 - Mean sq Error: 1210866728774.6785 - Root Mean Sq Error: 1100393.8970998877\n",
            "rf_Posson - ABS Error: 219348.75570705757 - Mean sq Error: 1498667116190.0325 - Root Mean Sq Error: 1224200.6029201392\n",
            "------> Total time for single run to check models:  10.484445571899414\n"
          ]
        }
      ]
    },
    {
      "cell_type": "markdown",
      "source": [
        "####Plot the Model Performace by RMSC Error rate"
      ],
      "metadata": {
        "id": "TUz4gsqqf5_T"
      }
    },
    {
      "cell_type": "code",
      "source": [
        "plt.figure(figsize=(12, 6))\n",
        "plt.plot(Single_names,Single_results)\n",
        "plt.ylabel('Error'); plt.xlabel('Models'); plt.title('Error for different Models');\n",
        "plt.show()"
      ],
      "metadata": {
        "colab": {
          "base_uri": "https://localhost:8080/",
          "height": 405
        },
        "id": "KAnI_sTJS-us",
        "outputId": "2462d4f7-3db0-4404-a700-181323c1d2d4"
      },
      "execution_count": null,
      "outputs": [
        {
          "output_type": "display_data",
          "data": {
            "image/png": "[encoded data removed]",
            "text/plain": [
              "<Figure size 864x432 with 1 Axes>"
            ]
          },
          "metadata": {
            "needs_background": "light"
          }
        }
      ]
    },
    {
      "cell_type": "markdown",
      "source": [
        "##Find the Best Hyperparameters"
      ],
      "metadata": {
        "id": "B9KSJ5xnkNs5"
      }
    },
    {
      "cell_type": "markdown",
      "source": [
        "###Evaluate with Different Train & Test Size"
      ],
      "metadata": {
        "id": "zZQkUXNHgDDH"
      }
    },
    {
      "cell_type": "code",
      "source": [
        "import numpy as np\n",
        "\n",
        "tsize = [0.2,0.3,0.4,0.5,0.6]\n",
        "tsize_acc = {}\n",
        "for i in tsize:\n",
        "    err = []\n",
        "    for j in range(20):\n",
        "        X_train,X_test,y_train,y_test = train_test_split(X,y,test_size=i, random_state = j)\n",
        "        mod = DecisionTreeRegressor(criterion='absolute_error')\n",
        "        mod.fit(X_train, y_train)\n",
        "        mod_pred = mod.predict(X_test)\n",
        "        mse = mean_squared_error(y_test,mod_pred)\n",
        "        abs = mean_absolute_error(y_test, mod_pred)\n",
        "        rmse = sqrt(mse)\n",
        "        err.append(rmse)\n",
        "    tsize_acc.update({i:np.mean(err)})\n",
        "print(tsize_acc)"
      ],
      "metadata": {
        "colab": {
          "base_uri": "https://localhost:8080/"
        },
        "id": "dDPC7lDA7xmJ",
        "outputId": "24270cf5-a3ae-458a-e04e-d8498d06de6e"
      },
      "execution_count": null,
      "outputs": [
        {
          "output_type": "stream",
          "name": "stdout",
          "text": [
            "{0.2: 1468001.50674771, 0.3: 1405993.033187256, 0.4: 1366759.8188004575, 0.5: 1461738.3963036635, 0.6: 1484005.3266662904}\n"
          ]
        }
      ]
    },
    {
      "cell_type": "markdown",
      "source": [
        "Plot the Performace by RMSC Error rate with different test sizes"
      ],
      "metadata": {
        "id": "eUHVHvcKgL9f"
      }
    },
    {
      "cell_type": "code",
      "source": [
        "import matplotlib.pyplot as plt\n",
        "%matplotlib inline\n",
        "\n",
        "plt.plot(*zip(*sorted(tsize_acc.items())))\n",
        "plt.ylabel('Error'); plt.xlabel('test split'); plt.title('Errors for different Train Test');\n",
        "plt.show()"
      ],
      "metadata": {
        "colab": {
          "base_uri": "https://localhost:8080/",
          "height": 295
        },
        "id": "WKfPKqeq7ylO",
        "outputId": "239750f3-6464-4df6-c1eb-cf8dafdf5f0e"
      },
      "execution_count": null,
      "outputs": [
        {
          "output_type": "display_data",
          "data": {
            "image/png": "[encoded data removed]",
            "text/plain": [
              "<Figure size 432x288 with 1 Axes>"
            ]
          },
          "metadata": {
            "needs_background": "light"
          }
        }
      ]
    },
    {
      "cell_type": "markdown",
      "source": [
        "* ***According to the above results 0.4 test split ratio gives least error compared to other test splits.***"
      ],
      "metadata": {
        "id": "2WSEzD40gZur"
      }
    },
    {
      "cell_type": "markdown",
      "source": [
        "###Evaluate with Different N-Estimators for Random forest Regressor"
      ],
      "metadata": {
        "id": "bnob_rzbgzSH"
      }
    },
    {
      "cell_type": "code",
      "source": [
        "num_est = np.arange(10,150,10)\n",
        "rf_clf_cv_mean = []\n",
        "rf_clf_cv_std = []\n",
        "err = []\n",
        "for n_est in num_est:\n",
        "  X_train,X_test,y_train,y_test = train_test_split(X,y,test_size=0.4)\n",
        "  mod = RandomForestRegressor(n_estimators = n_est, criterion='absolute_error')\n",
        "  mod.fit(X_train, y_train)\n",
        "  mod_pred = mod.predict(X_test)\n",
        "  mse = mean_squared_error(y_test,mod_pred)\n",
        "  abs = mean_absolute_error(y_test, mod_pred)\n",
        "  rmse = sqrt(mse)\n",
        "  err.append(rmse)\n",
        "  rf_clf_cv_mean.append(np.mean(err))\n",
        "  rf_clf_cv_std.append(np.std(err))"
      ],
      "metadata": {
        "id": "pOrYpz6A6v7r"
      },
      "execution_count": null,
      "outputs": []
    },
    {
      "cell_type": "markdown",
      "source": [
        "Plot the Performace by RMSC Error rate with different N Estimators"
      ],
      "metadata": {
        "id": "YXNaa9KkksBI"
      }
    },
    {
      "cell_type": "code",
      "source": [
        "plt.figure(figsize=(6, 4))\n",
        "plt.errorbar(num_est, rf_clf_cv_mean, yerr=rf_clf_cv_std,c='blue', fmt='-o', capsize=5)\n",
        "plt.ylabel('Error'); plt.xlabel('steps'); plt.title('Random forest n estimators');\n",
        "plt.show()"
      ],
      "metadata": {
        "colab": {
          "base_uri": "https://localhost:8080/",
          "height": 295
        },
        "id": "ig4xfZmZ69FJ",
        "outputId": "d6f852eb-ac98-48f8-af43-ae979db470b5"
      },
      "execution_count": null,
      "outputs": [
        {
          "output_type": "display_data",
          "data": {
            "image/png": "[encoded data removed]",
            "text/plain": [
              "<Figure size 432x288 with 1 Axes>"
            ]
          },
          "metadata": {
            "needs_background": "light"
          }
        }
      ]
    },
    {
      "cell_type": "markdown",
      "source": [
        "* ***According to the graph 10 number of estimators gives less error with least variation.***"
      ],
      "metadata": {
        "id": "emRVaNoSky7O"
      }
    },
    {
      "cell_type": "markdown",
      "source": [
        "###Evaluate with Different N-Estimators for Ada boost Regressor"
      ],
      "metadata": {
        "id": "hgpIsx12ppyl"
      }
    },
    {
      "cell_type": "code",
      "source": [
        "num_est = np.arange(20,200,20)\n",
        "ab_clf_cv_mean = []\n",
        "ab_clf_cv_std = []\n",
        "err_ab = []\n",
        "for n_est in num_est:\n",
        "  X_train,X_test,y_train,y_test = train_test_split(X,y,test_size=0.4)\n",
        "  rf = RandomForestRegressor(n_estimators = 10, criterion='absolute_error')\n",
        "  mod = AdaBoostRegressor(base_estimator=rf, n_estimators=n_est)\n",
        "  mod.fit(X_train, y_train)\n",
        "  mod_pred = mod.predict(X_test)\n",
        "  mse = mean_squared_error(y_test,mod_pred)\n",
        "  abs = mean_absolute_error(y_test, mod_pred)\n",
        "  rmse = sqrt(mse)\n",
        "  err_ab.append(rmse)\n",
        "  ab_clf_cv_mean.append(np.mean(err_ab))\n",
        "  ab_clf_cv_std.append(np.std(err_ab))"
      ],
      "metadata": {
        "id": "X8QdISMuCfSa"
      },
      "execution_count": null,
      "outputs": []
    },
    {
      "cell_type": "markdown",
      "source": [
        "Plot the Performace by RMSC Error rate with different N Estimators"
      ],
      "metadata": {
        "id": "GVjo7DkUp5D3"
      }
    },
    {
      "cell_type": "code",
      "source": [
        "plt.figure(figsize=(10, 4))\n",
        "plt.errorbar(num_est, ab_clf_cv_mean, yerr=ab_clf_cv_std, c='blue', fmt='-o', capsize=5)\n",
        "plt.ylabel('Error'); plt.xlabel('steps'); plt.title('Ada boost n estimators');\n",
        "plt.show()"
      ],
      "metadata": {
        "colab": {
          "base_uri": "https://localhost:8080/",
          "height": 295
        },
        "id": "-0ZR-WvKC-xm",
        "outputId": "9eef62ad-489d-4475-935b-75bbfe13b4f2"
      },
      "execution_count": null,
      "outputs": [
        {
          "output_type": "display_data",
          "data": {
            "image/png": "[encoded data removed]",
            "text/plain": [
              "<Figure size 720x288 with 1 Axes>"
            ]
          },
          "metadata": {
            "needs_background": "light"
          }
        }
      ]
    },
    {
      "cell_type": "markdown",
      "source": [
        "* ***According to the graph 20 number of estimators provide no deviation for error rate.***"
      ],
      "metadata": {
        "id": "0LGRucigqan8"
      }
    },
    {
      "cell_type": "markdown",
      "source": [
        "##Ensemble Methods\n",
        "\n",
        "* Using Decision tree, Random forest and , Support vector Linear Regressor as the base model due to better performance compared to other model from the Model Evaluation results"
      ],
      "metadata": {
        "id": "3CRlwCajp7IT"
      }
    },
    {
      "cell_type": "markdown",
      "source": [
        "###Define Stacking model"
      ],
      "metadata": {
        "id": "AS9Poa-ftcK8"
      }
    },
    {
      "cell_type": "code",
      "source": [
        "def get_stacking():\n",
        "\t# define the base models: level0 models\n",
        "  level0 = list()\n",
        "  level0.append(('DT', DecisionTreeRegressor(criterion='absolute_error')))\n",
        "  level0.append(('Rand', RandomForestRegressor(n_estimators = 10, criterion='absolute_error')))\n",
        "\t# define meta learner model: level 1\n",
        "  level1 = SVR(kernel='linear')\n",
        "\t# define the stacking ensemble\n",
        "  model = StackingRegressor(estimators=level0, final_estimator=level1, cv=5)\n",
        "  return model"
      ],
      "metadata": {
        "id": "Qf4RLa_a-f__"
      },
      "execution_count": null,
      "outputs": []
    },
    {
      "cell_type": "markdown",
      "source": [
        "###Define Ensemble model "
      ],
      "metadata": {
        "id": "wUWcpQxgujnV"
      }
    },
    {
      "cell_type": "code",
      "source": [
        "def ensemble_model():\n",
        "  dt = DecisionTreeRegressor(criterion='absolute_error')             #Base model\n",
        "  rf = RandomForestRegressor(n_estimators = 10, criterion='absolute_error')    #Base model\n",
        "  models = dict()\n",
        "  models['dt'] = DecisionTreeRegressor(criterion='absolute_error')\n",
        "  models['rf'] = RandomForestRegressor(n_estimators = 10, criterion='absolute_error')\n",
        "  models['bagging_dt'] = BaggingRegressor(base_estimator=dt, n_estimators=50)\n",
        "  models['bagging_Rf'] = BaggingRegressor(base_estimator=rf, n_estimators=50)\n",
        "  models['adaboost_dt'] = AdaBoostRegressor(base_estimator=dt, n_estimators=20)\n",
        "  models['adaboost_RF'] = AdaBoostRegressor(base_estimator=rf, n_estimators=20)\n",
        "  models['stacking'] = get_stacking()\n",
        "  return models"
      ],
      "metadata": {
        "id": "GVaDr6iL-ZsZ"
      },
      "execution_count": null,
      "outputs": []
    },
    {
      "cell_type": "markdown",
      "source": [
        "###Model Evaluation "
      ],
      "metadata": {
        "id": "NYy7uypruuuQ"
      }
    },
    {
      "cell_type": "code",
      "source": [
        "models = ensemble_model()\n",
        "# evaluate the models and store results\n",
        "ens_results, ens_names = list(), list()\n",
        "Runs = 1\n",
        "start_single = time.time()\n",
        "for name, model in models.items():\n",
        "\tAbsErr, Mse, Rmse = evaluate_model_Multi(model,X,y,Runs)\n",
        "\tens_results.append(Rmse)\n",
        "\tens_names.append(name)\n",
        "\t#filename = 'Models/'+name+'.pkl'\n",
        "\t#pickle.dump(mod, open(filename, 'wb'))\n",
        "\tprint(name,'- ABS Error:', mean(AbsErr), '- Mean sq Error:',mean(Mse),'- Root Mean Sq Error:', mean(Rmse))\n",
        "print('---- > Total time for single run to check models: ', time.time() - start_single) "
      ],
      "metadata": {
        "colab": {
          "base_uri": "https://localhost:8080/"
        },
        "id": "pQZV-LdQEOZs",
        "outputId": "855318d6-1afb-485f-b5ff-39faec3b49d8"
      },
      "execution_count": null,
      "outputs": [
        {
          "output_type": "stream",
          "name": "stdout",
          "text": [
            "dt - ABS Error: 159929.5625620874 - Mean sq Error: 1220425285855.5925 - Root Mean Sq Error: 1104728.6028050475\n",
            "rf - ABS Error: 157860.7844564602 - Mean sq Error: 1210923026873.9827 - Root Mean Sq Error: 1100419.4776874783\n",
            "bagging_dt - ABS Error: 158089.87916164726 - Mean sq Error: 1211167482601.0122 - Root Mean Sq Error: 1100530.5459645416\n",
            "bagging_Rf - ABS Error: 160367.04255400816 - Mean sq Error: 1212052366035.9216 - Root Mean Sq Error: 1100932.498401206\n",
            "adaboost_dt - ABS Error: 163617.03030022007 - Mean sq Error: 1213243449504.9521 - Root Mean Sq Error: 1101473.3085758148\n",
            "adaboost_RF - ABS Error: 161026.67319034896 - Mean sq Error: 1212528172331.5808 - Root Mean Sq Error: 1101148.5695997523\n",
            "stacking - ABS Error: 443987.1348566852 - Mean sq Error: 1669910592835.5996 - Root Mean Sq Error: 1292250.2051985133\n",
            "---- > Total time for single run to check models:  224.2609384059906\n"
          ]
        }
      ]
    },
    {
      "cell_type": "markdown",
      "source": [
        "Plot the Error to model performance graph"
      ],
      "metadata": {
        "id": "D1aScw3vu3x1"
      }
    },
    {
      "cell_type": "code",
      "source": [
        "plt.figure(figsize=(12, 6))\n",
        "plt.plot(ens_names,ens_results)\n",
        "plt.ylabel('Error'); plt.xlabel('Models'); plt.title('Error rate for different ensamble Models');\n",
        "plt.show()"
      ],
      "metadata": {
        "colab": {
          "base_uri": "https://localhost:8080/",
          "height": 405
        },
        "id": "aOT_dSbGFHyq",
        "outputId": "0a8b3e20-d4d2-468d-e72e-b3b6fa618027"
      },
      "execution_count": null,
      "outputs": [
        {
          "output_type": "display_data",
          "data": {
            "image/png": "[encoded data removed]",
            "text/plain": [
              "<Figure size 864x432 with 1 Axes>"
            ]
          },
          "metadata": {
            "needs_background": "light"
          }
        }
      ]
    },
    {
      "cell_type": "markdown",
      "source": [
        "* ***According to the above graph Random forest, bagging, boosting Decission tree Performed better compared to other models.***"
      ],
      "metadata": {
        "id": "Oa_daXIGbcKf"
      }
    },
    {
      "cell_type": "markdown",
      "source": [
        "##Result Interpretation"
      ],
      "metadata": {
        "id": "EqDg5_lUxGi6"
      }
    },
    {
      "cell_type": "markdown",
      "source": [
        "***If Selecting the best regression model Random forest regressor could be the best model due to less complexity and computation time***"
      ],
      "metadata": {
        "id": "EPsVLYvQvAWm"
      }
    },
    {
      "cell_type": "code",
      "source": [
        ""
      ],
      "metadata": {
        "id": "S2p-HdcTcFgg"
      },
      "execution_count": null,
      "outputs": []
    }
  ]
}